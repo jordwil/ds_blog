{
  "nbformat": 4,
  "nbformat_minor": 0,
  "metadata": {
    "colab": {
      "name": "2020-07-04-rna-bulk.ipynb",
      "provenance": [],
      "authorship_tag": "ABX9TyP2h/eK+IkJ3SXnFEqRxu3u",
      "include_colab_link": true
    },
    "kernelspec": {
      "name": "ir",
      "display_name": "R"
    }
  },
  "cells": [
    {
      "cell_type": "markdown",
      "metadata": {
        "id": "view-in-github",
        "colab_type": "text"
      },
      "source": [
        "<a href=\"https://colab.research.google.com/github/jordwil/ds_blog/blob/master/_notebooks/2020_07_04_rna_bulk.ipynb\" target=\"_parent\"><img src=\"https://colab.research.google.com/assets/colab-badge.svg\" alt=\"Open In Colab\"/></a>"
      ]
    },
    {
      "cell_type": "code",
      "metadata": {
        "id": "SnYgaf3BEac5",
        "colab_type": "code",
        "colab": {
          "base_uri": "https://localhost:8080/",
          "height": 69
        },
        "outputId": "693d817c-9634-41bf-cbba-f90de03f993a"
      },
      "source": [
        "install.packages(\"tidyverse\")"
      ],
      "execution_count": 1,
      "outputs": [
        {
          "output_type": "stream",
          "text": [
            "Installing package into ‘/usr/local/lib/R/site-library’\n",
            "(as ‘lib’ is unspecified)\n",
            "\n"
          ],
          "name": "stderr"
        }
      ]
    },
    {
      "cell_type": "code",
      "metadata": {
        "id": "jzDSVJqcEfox",
        "colab_type": "code",
        "colab": {
          "base_uri": "https://localhost:8080/",
          "height": 139
        },
        "outputId": "7ed16d2a-1921-403c-dfb6-3098f1f9b0f6"
      },
      "source": [
        "if (!requireNamespace(\"BiocManager\", quietly = TRUE))\n",
        "    install.packages(\"BiocManager\")\n",
        "BiocManager::install(version = \"3.10\")"
      ],
      "execution_count": 3,
      "outputs": [
        {
          "output_type": "stream",
          "text": [
            "Bioconductor version 3.10 (BiocManager 1.30.10), R 3.6.3 (2020-02-29)\n",
            "\n",
            "Installing package(s) 'BiocVersion'\n",
            "\n",
            "Old packages: 'curl', 'farver', 'fs', 'openssl', 'processx', 'rex', 'roxygen2',\n",
            "  'rprojroot', 'nlme'\n",
            "\n"
          ],
          "name": "stderr"
        }
      ]
    },
    {
      "cell_type": "code",
      "metadata": {
        "id": "JMxmOqTZEpr4",
        "colab_type": "code",
        "colab": {
          "base_uri": "https://localhost:8080/",
          "height": 211
        },
        "outputId": "5051523f-3b59-4b1f-a74c-e3196f0f94a7"
      },
      "source": [
        "BiocManager::install(\"DESeq2\")\n",
        "install.packages(c(\"pheatmap\", \"tidyverse\"))"
      ],
      "execution_count": 4,
      "outputs": [
        {
          "output_type": "stream",
          "text": [
            "Bioconductor version 3.10 (BiocManager 1.30.10), R 3.6.3 (2020-02-29)\n",
            "\n",
            "Installing package(s) 'DESeq2'\n",
            "\n",
            "also installing the dependencies ‘bit’, ‘bitops’, ‘formatR’, ‘bit64’, ‘plogr’, ‘RCurl’, ‘GenomeInfoDbData’, ‘zlibbioc’, ‘matrixStats’, ‘lambda.r’, ‘futile.options’, ‘RSQLite’, ‘XML’, ‘xtable’, ‘png’, ‘jpeg’, ‘checkmate’, ‘GenomeInfoDb’, ‘XVector’, ‘DelayedArray’, ‘futile.logger’, ‘snow’, ‘AnnotationDbi’, ‘annotate’, ‘Formula’, ‘latticeExtra’, ‘acepack’, ‘gridExtra’, ‘data.table’, ‘htmlTable’, ‘viridis’, ‘S4Vectors’, ‘IRanges’, ‘GenomicRanges’, ‘SummarizedExperiment’, ‘BiocGenerics’, ‘Biobase’, ‘BiocParallel’, ‘genefilter’, ‘locfit’, ‘geneplotter’, ‘Hmisc’, ‘RcppArmadillo’\n",
            "\n",
            "\n",
            "Old packages: 'curl', 'farver', 'fs', 'openssl', 'processx', 'rex', 'roxygen2',\n",
            "  'rprojroot', 'nlme'\n",
            "\n"
          ],
          "name": "stderr"
        }
      ]
    },
    {
      "cell_type": "code",
      "metadata": {
        "id": "uFZlcMeINQwp",
        "colab_type": "code",
        "colab": {
          "base_uri": "https://localhost:8080/",
          "height": 207
        },
        "outputId": "407ac361-74d5-4efc-eb99-0588f233a69b"
      },
      "source": [
        "countsName <- \"https://4va.github.io/biodatasci/data/airway_scaledcounts.csv\"\n",
        "download.file(countsName, destfile = \"airway_scaledcounts.csv\", method = \"auto\")\n",
        "\n",
        "countData <- read.csv('airway_scaledcounts.csv', header = TRUE, sep = \",\")\n",
        "head(countData)"
      ],
      "execution_count": 12,
      "outputs": [
        {
          "output_type": "display_data",
          "data": {
            "text/plain": [
              "  ensgene         SRR1039508 SRR1039509 SRR1039512 SRR1039513 SRR1039516\n",
              "1 ENSG00000000003 723        486        904        445        1170      \n",
              "2 ENSG00000000005   0          0          0          0           0      \n",
              "3 ENSG00000000419 467        523        616        371         582      \n",
              "4 ENSG00000000457 347        258        364        237         318      \n",
              "5 ENSG00000000460  96         81         73         66         118      \n",
              "6 ENSG00000000938   0          0          1          0           2      \n",
              "  SRR1039517 SRR1039520 SRR1039521\n",
              "1 1097       806        604       \n",
              "2    0         0          0       \n",
              "3  781       417        509       \n",
              "4  447       330        324       \n",
              "5   94       102         74       \n",
              "6    0         0          0       "
            ],
            "text/latex": "A data.frame: 6 × 9\n\\begin{tabular}{r|lllllllll}\n  & ensgene & SRR1039508 & SRR1039509 & SRR1039512 & SRR1039513 & SRR1039516 & SRR1039517 & SRR1039520 & SRR1039521\\\\\n  & <fct> & <dbl> & <dbl> & <dbl> & <dbl> & <dbl> & <dbl> & <dbl> & <dbl>\\\\\n\\hline\n\t1 & ENSG00000000003 & 723 & 486 & 904 & 445 & 1170 & 1097 & 806 & 604\\\\\n\t2 & ENSG00000000005 &   0 &   0 &   0 &   0 &    0 &    0 &   0 &   0\\\\\n\t3 & ENSG00000000419 & 467 & 523 & 616 & 371 &  582 &  781 & 417 & 509\\\\\n\t4 & ENSG00000000457 & 347 & 258 & 364 & 237 &  318 &  447 & 330 & 324\\\\\n\t5 & ENSG00000000460 &  96 &  81 &  73 &  66 &  118 &   94 & 102 &  74\\\\\n\t6 & ENSG00000000938 &   0 &   0 &   1 &   0 &    2 &    0 &   0 &   0\\\\\n\\end{tabular}\n",
            "text/markdown": "\nA data.frame: 6 × 9\n\n| <!--/--> | ensgene &lt;fct&gt; | SRR1039508 &lt;dbl&gt; | SRR1039509 &lt;dbl&gt; | SRR1039512 &lt;dbl&gt; | SRR1039513 &lt;dbl&gt; | SRR1039516 &lt;dbl&gt; | SRR1039517 &lt;dbl&gt; | SRR1039520 &lt;dbl&gt; | SRR1039521 &lt;dbl&gt; |\n|---|---|---|---|---|---|---|---|---|---|\n| 1 | ENSG00000000003 | 723 | 486 | 904 | 445 | 1170 | 1097 | 806 | 604 |\n| 2 | ENSG00000000005 |   0 |   0 |   0 |   0 |    0 |    0 |   0 |   0 |\n| 3 | ENSG00000000419 | 467 | 523 | 616 | 371 |  582 |  781 | 417 | 509 |\n| 4 | ENSG00000000457 | 347 | 258 | 364 | 237 |  318 |  447 | 330 | 324 |\n| 5 | ENSG00000000460 |  96 |  81 |  73 |  66 |  118 |   94 | 102 |  74 |\n| 6 | ENSG00000000938 |   0 |   0 |   1 |   0 |    2 |    0 |   0 |   0 |\n\n",
            "text/html": [
              "<table>\n",
              "<caption>A data.frame: 6 × 9</caption>\n",
              "<thead>\n",
              "\t<tr><th></th><th scope=col>ensgene</th><th scope=col>SRR1039508</th><th scope=col>SRR1039509</th><th scope=col>SRR1039512</th><th scope=col>SRR1039513</th><th scope=col>SRR1039516</th><th scope=col>SRR1039517</th><th scope=col>SRR1039520</th><th scope=col>SRR1039521</th></tr>\n",
              "\t<tr><th></th><th scope=col>&lt;fct&gt;</th><th scope=col>&lt;dbl&gt;</th><th scope=col>&lt;dbl&gt;</th><th scope=col>&lt;dbl&gt;</th><th scope=col>&lt;dbl&gt;</th><th scope=col>&lt;dbl&gt;</th><th scope=col>&lt;dbl&gt;</th><th scope=col>&lt;dbl&gt;</th><th scope=col>&lt;dbl&gt;</th></tr>\n",
              "</thead>\n",
              "<tbody>\n",
              "\t<tr><th scope=row>1</th><td>ENSG00000000003</td><td>723</td><td>486</td><td>904</td><td>445</td><td>1170</td><td>1097</td><td>806</td><td>604</td></tr>\n",
              "\t<tr><th scope=row>2</th><td>ENSG00000000005</td><td>  0</td><td>  0</td><td>  0</td><td>  0</td><td>   0</td><td>   0</td><td>  0</td><td>  0</td></tr>\n",
              "\t<tr><th scope=row>3</th><td>ENSG00000000419</td><td>467</td><td>523</td><td>616</td><td>371</td><td> 582</td><td> 781</td><td>417</td><td>509</td></tr>\n",
              "\t<tr><th scope=row>4</th><td>ENSG00000000457</td><td>347</td><td>258</td><td>364</td><td>237</td><td> 318</td><td> 447</td><td>330</td><td>324</td></tr>\n",
              "\t<tr><th scope=row>5</th><td>ENSG00000000460</td><td> 96</td><td> 81</td><td> 73</td><td> 66</td><td> 118</td><td>  94</td><td>102</td><td> 74</td></tr>\n",
              "\t<tr><th scope=row>6</th><td>ENSG00000000938</td><td>  0</td><td>  0</td><td>  1</td><td>  0</td><td>   2</td><td>   0</td><td>  0</td><td>  0</td></tr>\n",
              "</tbody>\n",
              "</table>\n"
            ]
          },
          "metadata": {
            "tags": []
          }
        }
      ]
    },
    {
      "cell_type": "code",
      "metadata": {
        "id": "zgoD_VRUO4X-",
        "colab_type": "code",
        "colab": {
          "base_uri": "https://localhost:8080/",
          "height": 207
        },
        "outputId": "f7e43fe4-30ad-419d-fcea-a219f198eab5"
      },
      "source": [
        "head(countData)"
      ],
      "execution_count": 13,
      "outputs": [
        {
          "output_type": "display_data",
          "data": {
            "text/plain": [
              "  ensgene         SRR1039508 SRR1039509 SRR1039512 SRR1039513 SRR1039516\n",
              "1 ENSG00000000003 723        486        904        445        1170      \n",
              "2 ENSG00000000005   0          0          0          0           0      \n",
              "3 ENSG00000000419 467        523        616        371         582      \n",
              "4 ENSG00000000457 347        258        364        237         318      \n",
              "5 ENSG00000000460  96         81         73         66         118      \n",
              "6 ENSG00000000938   0          0          1          0           2      \n",
              "  SRR1039517 SRR1039520 SRR1039521\n",
              "1 1097       806        604       \n",
              "2    0         0          0       \n",
              "3  781       417        509       \n",
              "4  447       330        324       \n",
              "5   94       102         74       \n",
              "6    0         0          0       "
            ],
            "text/latex": "A data.frame: 6 × 9\n\\begin{tabular}{r|lllllllll}\n  & ensgene & SRR1039508 & SRR1039509 & SRR1039512 & SRR1039513 & SRR1039516 & SRR1039517 & SRR1039520 & SRR1039521\\\\\n  & <fct> & <dbl> & <dbl> & <dbl> & <dbl> & <dbl> & <dbl> & <dbl> & <dbl>\\\\\n\\hline\n\t1 & ENSG00000000003 & 723 & 486 & 904 & 445 & 1170 & 1097 & 806 & 604\\\\\n\t2 & ENSG00000000005 &   0 &   0 &   0 &   0 &    0 &    0 &   0 &   0\\\\\n\t3 & ENSG00000000419 & 467 & 523 & 616 & 371 &  582 &  781 & 417 & 509\\\\\n\t4 & ENSG00000000457 & 347 & 258 & 364 & 237 &  318 &  447 & 330 & 324\\\\\n\t5 & ENSG00000000460 &  96 &  81 &  73 &  66 &  118 &   94 & 102 &  74\\\\\n\t6 & ENSG00000000938 &   0 &   0 &   1 &   0 &    2 &    0 &   0 &   0\\\\\n\\end{tabular}\n",
            "text/markdown": "\nA data.frame: 6 × 9\n\n| <!--/--> | ensgene &lt;fct&gt; | SRR1039508 &lt;dbl&gt; | SRR1039509 &lt;dbl&gt; | SRR1039512 &lt;dbl&gt; | SRR1039513 &lt;dbl&gt; | SRR1039516 &lt;dbl&gt; | SRR1039517 &lt;dbl&gt; | SRR1039520 &lt;dbl&gt; | SRR1039521 &lt;dbl&gt; |\n|---|---|---|---|---|---|---|---|---|---|\n| 1 | ENSG00000000003 | 723 | 486 | 904 | 445 | 1170 | 1097 | 806 | 604 |\n| 2 | ENSG00000000005 |   0 |   0 |   0 |   0 |    0 |    0 |   0 |   0 |\n| 3 | ENSG00000000419 | 467 | 523 | 616 | 371 |  582 |  781 | 417 | 509 |\n| 4 | ENSG00000000457 | 347 | 258 | 364 | 237 |  318 |  447 | 330 | 324 |\n| 5 | ENSG00000000460 |  96 |  81 |  73 |  66 |  118 |   94 | 102 |  74 |\n| 6 | ENSG00000000938 |   0 |   0 |   1 |   0 |    2 |    0 |   0 |   0 |\n\n",
            "text/html": [
              "<table>\n",
              "<caption>A data.frame: 6 × 9</caption>\n",
              "<thead>\n",
              "\t<tr><th></th><th scope=col>ensgene</th><th scope=col>SRR1039508</th><th scope=col>SRR1039509</th><th scope=col>SRR1039512</th><th scope=col>SRR1039513</th><th scope=col>SRR1039516</th><th scope=col>SRR1039517</th><th scope=col>SRR1039520</th><th scope=col>SRR1039521</th></tr>\n",
              "\t<tr><th></th><th scope=col>&lt;fct&gt;</th><th scope=col>&lt;dbl&gt;</th><th scope=col>&lt;dbl&gt;</th><th scope=col>&lt;dbl&gt;</th><th scope=col>&lt;dbl&gt;</th><th scope=col>&lt;dbl&gt;</th><th scope=col>&lt;dbl&gt;</th><th scope=col>&lt;dbl&gt;</th><th scope=col>&lt;dbl&gt;</th></tr>\n",
              "</thead>\n",
              "<tbody>\n",
              "\t<tr><th scope=row>1</th><td>ENSG00000000003</td><td>723</td><td>486</td><td>904</td><td>445</td><td>1170</td><td>1097</td><td>806</td><td>604</td></tr>\n",
              "\t<tr><th scope=row>2</th><td>ENSG00000000005</td><td>  0</td><td>  0</td><td>  0</td><td>  0</td><td>   0</td><td>   0</td><td>  0</td><td>  0</td></tr>\n",
              "\t<tr><th scope=row>3</th><td>ENSG00000000419</td><td>467</td><td>523</td><td>616</td><td>371</td><td> 582</td><td> 781</td><td>417</td><td>509</td></tr>\n",
              "\t<tr><th scope=row>4</th><td>ENSG00000000457</td><td>347</td><td>258</td><td>364</td><td>237</td><td> 318</td><td> 447</td><td>330</td><td>324</td></tr>\n",
              "\t<tr><th scope=row>5</th><td>ENSG00000000460</td><td> 96</td><td> 81</td><td> 73</td><td> 66</td><td> 118</td><td>  94</td><td>102</td><td> 74</td></tr>\n",
              "\t<tr><th scope=row>6</th><td>ENSG00000000938</td><td>  0</td><td>  0</td><td>  1</td><td>  0</td><td>   2</td><td>   0</td><td>  0</td><td>  0</td></tr>\n",
              "</tbody>\n",
              "</table>\n"
            ]
          },
          "metadata": {
            "tags": []
          }
        }
      ]
    },
    {
      "cell_type": "code",
      "metadata": {
        "id": "qMk56mHuPG0S",
        "colab_type": "code",
        "colab": {}
      },
      "source": [
        ""
      ],
      "execution_count": null,
      "outputs": []
    }
  ]
}