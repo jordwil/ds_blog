{
 "cells": [
  {
   "cell_type": "markdown",
   "metadata": {},
   "source": [
    "# \"Longevity of the south paws\"\n",
    "> \"How to use Bayesian Statistics to determine how left handers and their longevity change over time\"\n",
    "\n",
    "- toc: true\n",
    "- badges: true\n",
    "- image: https://i.imgur.com/gBIWykY.png\n",
    "- comments: true \n",
    "- author: Jordan Wilheim\n",
    "- categories: [bayesian, python, eda, cleaning, statistics, bootstrapping]"
   ]
  },
  {
   "cell_type": "markdown",
   "metadata": {},
   "source": [
    "## Do Left Handed People Die Younger?\n",
    "\n",
    "In this notebook, we will explore this phenomenon using age distribution data to see if we can reproduce a difference in average age at death purely from the changing rates of left-handedness over time, refuting the claim of early death for left-handers. This notebook uses `pandas` and Bayesian statistics to analyze the probability of being a certain age at death given that you are reported as left-handed or right-handed\n",
    "\n",
    " National Geographic survey in 1986 resulted in over a million responses that included age, sex, and hand preference for throwing and writing. Researchers Avery Gilbert and Charles Wysocki analyzed this data and noticed that rates of left-handedness were around 13% for people younger than 40 but decreased with age to about 5% by the age of 80. They concluded based on analysis of a subgroup of people who throw left-handed but write right-handed that this age-dependence was primarily due to changing social acceptability of left-handedness. This means that the rates aren't a factor of _age_ specifically but rather of the _year you were born_, and if the same study was done today, we should expect a shifted version of the same distribution as a function of age. Ultimately, we'll see what effect this changing rate has on the apparent mean age of death of left-handed people, but let's start by plotting the rates of left-handedness as a function of age.\n",
    "\n",
    "This notebook uses two datasets: \n",
    "1. [death distribution data](https://www.cdc.gov/nchs/data/statab/vs00199_table310.pdf) for the United States from the year 1999 by the CDC\n",
    "2. [rates of left handedness](https://www.ncbi.nlm.nih.gov/pubmed/1528408) digitized from a figure in this 1992 paper by Gilbert and Wysocki \n",
    "\n"
   ]
  },
  {
   "cell_type": "code",
   "execution_count": 206,
   "metadata": {
    "dc": {
     "key": "4"
    },
    "tags": [
     "sample_code"
    ]
   },
   "outputs": [],
   "source": [
    "#collapse\n",
    "import pandas as pd\n",
    "import matplotlib.pyplot as plt\n",
    "import altair as alt\n",
    "import numpy as np\n",
    "import seaborn as sns\n",
    "sns.set()\n",
    "\n",
    "# load the data\n",
    "data_url_1 = \"https://gist.githubusercontent.com/mbonsma/8da0990b71ba9a09f7de395574e54df1/raw/aec88b30af87fad8d45da7e774223f91dad09e88/lh_data.csv\"\n",
    "lefthanded_data = pd.read_csv(data_url_1)"
   ]
  },
  {
   "cell_type": "code",
   "execution_count": 207,
   "metadata": {},
   "outputs": [
    {
     "data": {
      "text/html": [
       "\n",
       "<div id=\"altair-viz-6e7599f795d144aaa3d591968202fae6\"></div>\n",
       "<script type=\"text/javascript\">\n",
       "  (function(spec, embedOpt){\n",
       "    let outputDiv = document.currentScript.previousElementSibling;\n",
       "    if (outputDiv.id !== \"altair-viz-6e7599f795d144aaa3d591968202fae6\") {\n",
       "      outputDiv = document.getElementById(\"altair-viz-6e7599f795d144aaa3d591968202fae6\");\n",
       "    }\n",
       "    const paths = {\n",
       "      \"vega\": \"https://cdn.jsdelivr.net/npm//vega@5?noext\",\n",
       "      \"vega-lib\": \"https://cdn.jsdelivr.net/npm//vega-lib?noext\",\n",
       "      \"vega-lite\": \"https://cdn.jsdelivr.net/npm//vega-lite@4.8.1?noext\",\n",
       "      \"vega-embed\": \"https://cdn.jsdelivr.net/npm//vega-embed@6?noext\",\n",
       "    };\n",
       "\n",
       "    function loadScript(lib) {\n",
       "      return new Promise(function(resolve, reject) {\n",
       "        var s = document.createElement('script');\n",
       "        s.src = paths[lib];\n",
       "        s.async = true;\n",
       "        s.onload = () => resolve(paths[lib]);\n",
       "        s.onerror = () => reject(`Error loading script: ${paths[lib]}`);\n",
       "        document.getElementsByTagName(\"head\")[0].appendChild(s);\n",
       "      });\n",
       "    }\n",
       "\n",
       "    function showError(err) {\n",
       "      outputDiv.innerHTML = `<div class=\"error\" style=\"color:red;\">${err}</div>`;\n",
       "      throw err;\n",
       "    }\n",
       "\n",
       "    function displayChart(vegaEmbed) {\n",
       "      vegaEmbed(outputDiv, spec, embedOpt)\n",
       "        .catch(err => showError(`Javascript Error: ${err.message}<br>This usually means there's a typo in your chart specification. See the javascript console for the full traceback.`));\n",
       "    }\n",
       "\n",
       "    if(typeof define === \"function\" && define.amd) {\n",
       "      requirejs.config({paths});\n",
       "      require([\"vega-embed\"], displayChart, err => showError(`Error loading script: ${err.message}`));\n",
       "    } else if (typeof vegaEmbed === \"function\") {\n",
       "      displayChart(vegaEmbed);\n",
       "    } else {\n",
       "      loadScript(\"vega\")\n",
       "        .then(() => loadScript(\"vega-lite\"))\n",
       "        .then(() => loadScript(\"vega-embed\"))\n",
       "        .catch(showError)\n",
       "        .then(() => displayChart(vegaEmbed));\n",
       "    }\n",
       "  })({\"config\": {\"view\": {\"continuousWidth\": 400, \"continuousHeight\": 300}}, \"data\": {\"name\": \"data-853b721aeb2ae7f24261090c3a79cfe4\"}, \"mark\": \"point\", \"encoding\": {\"color\": {\"type\": \"nominal\", \"field\": \"Gender\"}, \"x\": {\"type\": \"quantitative\", \"field\": \"Age\"}, \"y\": {\"type\": \"quantitative\", \"axis\": {\"title\": \"Percentage of people who are left-handed\"}, \"field\": \"Percentage of people who are left-handed\"}}, \"$schema\": \"https://vega.github.io/schema/vega-lite/v4.8.1.json\", \"datasets\": {\"data-853b721aeb2ae7f24261090c3a79cfe4\": [{\"Age\": 10, \"Gender\": \"Male\", \"Percentage of people who are left-handed\": 12.717558484000001}, {\"Age\": 11, \"Gender\": \"Male\", \"Percentage of people who are left-handed\": 15.3188295861}, {\"Age\": 12, \"Gender\": \"Male\", \"Percentage of people who are left-handed\": 14.8082807769}, {\"Age\": 13, \"Gender\": \"Male\", \"Percentage of people who are left-handed\": 13.7937436118}, {\"Age\": 14, \"Gender\": \"Male\", \"Percentage of people who are left-handed\": 15.1563041001}, {\"Age\": 15, \"Gender\": \"Male\", \"Percentage of people who are left-handed\": 14.086185732799999}, {\"Age\": 16, \"Gender\": \"Male\", \"Percentage of people who are left-handed\": 14.148992838599998}, {\"Age\": 17, \"Gender\": \"Male\", \"Percentage of people who are left-handed\": 14.5225240193}, {\"Age\": 18, \"Gender\": \"Male\", \"Percentage of people who are left-handed\": 14.7270085305}, {\"Age\": 19, \"Gender\": \"Male\", \"Percentage of people who are left-handed\": 15.0693709779}, {\"Age\": 20, \"Gender\": \"Male\", \"Percentage of people who are left-handed\": 15.546783590999999}, {\"Age\": 21, \"Gender\": \"Male\", \"Percentage of people who are left-handed\": 15.355535489100001}, {\"Age\": 22, \"Gender\": \"Male\", \"Percentage of people who are left-handed\": 13.9310353964}, {\"Age\": 23, \"Gender\": \"Male\", \"Percentage of people who are left-handed\": 14.758584558099999}, {\"Age\": 24, \"Gender\": \"Male\", \"Percentage of people who are left-handed\": 14.405858627799999}, {\"Age\": 25, \"Gender\": \"Male\", \"Percentage of people who are left-handed\": 13.7574129893}, {\"Age\": 26, \"Gender\": \"Male\", \"Percentage of people who are left-handed\": 13.5547399141}, {\"Age\": 27, \"Gender\": \"Male\", \"Percentage of people who are left-handed\": 14.2060094656}, {\"Age\": 28, \"Gender\": \"Male\", \"Percentage of people who are left-handed\": 14.43338593}, {\"Age\": 29, \"Gender\": \"Male\", \"Percentage of people who are left-handed\": 14.236955953699999}, {\"Age\": 30, \"Gender\": \"Male\", \"Percentage of people who are left-handed\": 14.579011442999999}, {\"Age\": 31, \"Gender\": \"Male\", \"Percentage of people who are left-handed\": 14.2093021711}, {\"Age\": 32, \"Gender\": \"Male\", \"Percentage of people who are left-handed\": 14.835156939700001}, {\"Age\": 33, \"Gender\": \"Male\", \"Percentage of people who are left-handed\": 13.868004579}, {\"Age\": 34, \"Gender\": \"Male\", \"Percentage of people who are left-handed\": 14.697279617000001}, {\"Age\": 35, \"Gender\": \"Male\", \"Percentage of people who are left-handed\": 14.4188258601}, {\"Age\": 36, \"Gender\": \"Male\", \"Percentage of people who are left-handed\": 14.932435885699999}, {\"Age\": 37, \"Gender\": \"Male\", \"Percentage of people who are left-handed\": 14.6433782116}, {\"Age\": 38, \"Gender\": \"Male\", \"Percentage of people who are left-handed\": 14.087477182999999}, {\"Age\": 39, \"Gender\": \"Male\", \"Percentage of people who are left-handed\": 14.3007821248}, {\"Age\": 40, \"Gender\": \"Male\", \"Percentage of people who are left-handed\": 13.973229568599999}, {\"Age\": 41, \"Gender\": \"Male\", \"Percentage of people who are left-handed\": 13.774298549600001}, {\"Age\": 42, \"Gender\": \"Male\", \"Percentage of people who are left-handed\": 13.744226443199999}, {\"Age\": 43, \"Gender\": \"Male\", \"Percentage of people who are left-handed\": 13.439010281300002}, {\"Age\": 44, \"Gender\": \"Male\", \"Percentage of people who are left-handed\": 13.7696442451}, {\"Age\": 45, \"Gender\": \"Male\", \"Percentage of people who are left-handed\": 13.9991824154}, {\"Age\": 46, \"Gender\": \"Male\", \"Percentage of people who are left-handed\": 13.535488741400002}, {\"Age\": 47, \"Gender\": \"Male\", \"Percentage of people who are left-handed\": 13.4881439299}, {\"Age\": 48, \"Gender\": \"Male\", \"Percentage of people who are left-handed\": 13.1995097898}, {\"Age\": 49, \"Gender\": \"Male\", \"Percentage of people who are left-handed\": 12.483963995}, {\"Age\": 50, \"Gender\": \"Male\", \"Percentage of people who are left-handed\": 11.8099935257}, {\"Age\": 51, \"Gender\": \"Male\", \"Percentage of people who are left-handed\": 11.398049288900001}, {\"Age\": 52, \"Gender\": \"Male\", \"Percentage of people who are left-handed\": 11.3466922907}, {\"Age\": 53, \"Gender\": \"Male\", \"Percentage of people who are left-handed\": 11.5218212153}, {\"Age\": 54, \"Gender\": \"Male\", \"Percentage of people who are left-handed\": 11.5293773022}, {\"Age\": 55, \"Gender\": \"Male\", \"Percentage of people who are left-handed\": 11.5152680574}, {\"Age\": 56, \"Gender\": \"Male\", \"Percentage of people who are left-handed\": 11.0123447297}, {\"Age\": 57, \"Gender\": \"Male\", \"Percentage of people who are left-handed\": 11.9092617946}, {\"Age\": 58, \"Gender\": \"Male\", \"Percentage of people who are left-handed\": 10.6185404075}, {\"Age\": 59, \"Gender\": \"Male\", \"Percentage of people who are left-handed\": 10.1666386123}, {\"Age\": 60, \"Gender\": \"Male\", \"Percentage of people who are left-handed\": 9.878731869400001}, {\"Age\": 61, \"Gender\": \"Male\", \"Percentage of people who are left-handed\": 9.8947261547}, {\"Age\": 62, \"Gender\": \"Male\", \"Percentage of people who are left-handed\": 9.247996185}, {\"Age\": 63, \"Gender\": \"Male\", \"Percentage of people who are left-handed\": 8.6001095951}, {\"Age\": 64, \"Gender\": \"Male\", \"Percentage of people who are left-handed\": 8.2907078724}, {\"Age\": 65, \"Gender\": \"Male\", \"Percentage of people who are left-handed\": 8.562868184}, {\"Age\": 66, \"Gender\": \"Male\", \"Percentage of people who are left-handed\": 8.7697252993}, {\"Age\": 67, \"Gender\": \"Male\", \"Percentage of people who are left-handed\": 8.5759555794}, {\"Age\": 68, \"Gender\": \"Male\", \"Percentage of people who are left-handed\": 8.0743890039}, {\"Age\": 69, \"Gender\": \"Male\", \"Percentage of people who are left-handed\": 8.5416528788}, {\"Age\": 70, \"Gender\": \"Male\", \"Percentage of people who are left-handed\": 7.9268315708}, {\"Age\": 71, \"Gender\": \"Male\", \"Percentage of people who are left-handed\": 8.3659110245}, {\"Age\": 72, \"Gender\": \"Male\", \"Percentage of people who are left-handed\": 7.559046544400001}, {\"Age\": 73, \"Gender\": \"Male\", \"Percentage of people who are left-handed\": 7.4701778483000005}, {\"Age\": 74, \"Gender\": \"Male\", \"Percentage of people who are left-handed\": 7.0813217982}, {\"Age\": 75, \"Gender\": \"Male\", \"Percentage of people who are left-handed\": 8.2534782691}, {\"Age\": 76, \"Gender\": \"Male\", \"Percentage of people who are left-handed\": 8.7698819174}, {\"Age\": 77, \"Gender\": \"Male\", \"Percentage of people who are left-handed\": 5.3970685}, {\"Age\": 78, \"Gender\": \"Male\", \"Percentage of people who are left-handed\": 6.9372037708}, {\"Age\": 79, \"Gender\": \"Male\", \"Percentage of people who are left-handed\": 4.8859994098}, {\"Age\": 80, \"Gender\": \"Male\", \"Percentage of people who are left-handed\": 6.9393815785}, {\"Age\": 81, \"Gender\": \"Male\", \"Percentage of people who are left-handed\": 7.1881984669}, {\"Age\": 82, \"Gender\": \"Male\", \"Percentage of people who are left-handed\": 7.350203849600001}, {\"Age\": 83, \"Gender\": \"Male\", \"Percentage of people who are left-handed\": 6.471204188500001}, {\"Age\": 84, \"Gender\": \"Male\", \"Percentage of people who are left-handed\": 6.5108576166}, {\"Age\": 85, \"Gender\": \"Male\", \"Percentage of people who are left-handed\": 7.3379680795}, {\"Age\": 86, \"Gender\": \"Male\", \"Percentage of people who are left-handed\": 5.059387305}, {\"Age\": 10, \"Gender\": \"Female\", \"Percentage of people who are left-handed\": 12.1980406599}, {\"Age\": 11, \"Gender\": \"Female\", \"Percentage of people who are left-handed\": 11.1448043104}, {\"Age\": 12, \"Gender\": \"Female\", \"Percentage of people who are left-handed\": 11.5492397993}, {\"Age\": 13, \"Gender\": \"Female\", \"Percentage of people who are left-handed\": 11.2764416943}, {\"Age\": 14, \"Gender\": \"Female\", \"Percentage of people who are left-handed\": 11.5729060811}, {\"Age\": 15, \"Gender\": \"Female\", \"Percentage of people who are left-handed\": 12.0777308322}, {\"Age\": 16, \"Gender\": \"Female\", \"Percentage of people who are left-handed\": 12.057432040999998}, {\"Age\": 17, \"Gender\": \"Female\", \"Percentage of people who are left-handed\": 11.5244420198}, {\"Age\": 18, \"Gender\": \"Female\", \"Percentage of people who are left-handed\": 12.1795500237}, {\"Age\": 19, \"Gender\": \"Female\", \"Percentage of people who are left-handed\": 11.8829043905}, {\"Age\": 20, \"Gender\": \"Female\", \"Percentage of people who are left-handed\": 11.9706063024}, {\"Age\": 21, \"Gender\": \"Female\", \"Percentage of people who are left-handed\": 12.154898996099998}, {\"Age\": 22, \"Gender\": \"Female\", \"Percentage of people who are left-handed\": 12.8721657246}, {\"Age\": 23, \"Gender\": \"Female\", \"Percentage of people who are left-handed\": 11.5399365158}, {\"Age\": 24, \"Gender\": \"Female\", \"Percentage of people who are left-handed\": 11.3314479594}, {\"Age\": 25, \"Gender\": \"Female\", \"Percentage of people who are left-handed\": 11.6767482018}, {\"Age\": 26, \"Gender\": \"Female\", \"Percentage of people who are left-handed\": 10.865891341400001}, {\"Age\": 27, \"Gender\": \"Female\", \"Percentage of people who are left-handed\": 12.3094022945}, {\"Age\": 28, \"Gender\": \"Female\", \"Percentage of people who are left-handed\": 11.0565877752}, {\"Age\": 29, \"Gender\": \"Female\", \"Percentage of people who are left-handed\": 11.368353318399999}, {\"Age\": 30, \"Gender\": \"Female\", \"Percentage of people who are left-handed\": 11.593085159500001}, {\"Age\": 31, \"Gender\": \"Female\", \"Percentage of people who are left-handed\": 11.681972696199999}, {\"Age\": 32, \"Gender\": \"Female\", \"Percentage of people who are left-handed\": 11.1043705557}, {\"Age\": 33, \"Gender\": \"Female\", \"Percentage of people who are left-handed\": 11.143795335799998}, {\"Age\": 34, \"Gender\": \"Female\", \"Percentage of people who are left-handed\": 10.9261770053}, {\"Age\": 35, \"Gender\": \"Female\", \"Percentage of people who are left-handed\": 11.431545809200001}, {\"Age\": 36, \"Gender\": \"Female\", \"Percentage of people who are left-handed\": 11.246989960899999}, {\"Age\": 37, \"Gender\": \"Female\", \"Percentage of people who are left-handed\": 11.3674474527}, {\"Age\": 38, \"Gender\": \"Female\", \"Percentage of people who are left-handed\": 10.8390296785}, {\"Age\": 39, \"Gender\": \"Female\", \"Percentage of people who are left-handed\": 10.868419793}, {\"Age\": 40, \"Gender\": \"Female\", \"Percentage of people who are left-handed\": 10.5591038724}, {\"Age\": 41, \"Gender\": \"Female\", \"Percentage of people who are left-handed\": 11.643192905}, {\"Age\": 42, \"Gender\": \"Female\", \"Percentage of people who are left-handed\": 10.494510315800001}, {\"Age\": 43, \"Gender\": \"Female\", \"Percentage of people who are left-handed\": 10.990944634100002}, {\"Age\": 44, \"Gender\": \"Female\", \"Percentage of people who are left-handed\": 11.3891911064}, {\"Age\": 45, \"Gender\": \"Female\", \"Percentage of people who are left-handed\": 10.079109894}, {\"Age\": 46, \"Gender\": \"Female\", \"Percentage of people who are left-handed\": 10.3572887459}, {\"Age\": 47, \"Gender\": \"Female\", \"Percentage of people who are left-handed\": 10.2647174146}, {\"Age\": 48, \"Gender\": \"Female\", \"Percentage of people who are left-handed\": 9.8920729742}, {\"Age\": 49, \"Gender\": \"Female\", \"Percentage of people who are left-handed\": 9.251517039}, {\"Age\": 50, \"Gender\": \"Female\", \"Percentage of people who are left-handed\": 9.405773371699999}, {\"Age\": 51, \"Gender\": \"Female\", \"Percentage of people who are left-handed\": 9.5879439468}, {\"Age\": 52, \"Gender\": \"Female\", \"Percentage of people who are left-handed\": 8.7009078502}, {\"Age\": 53, \"Gender\": \"Female\", \"Percentage of people who are left-handed\": 8.7539637034}, {\"Age\": 54, \"Gender\": \"Female\", \"Percentage of people who are left-handed\": 8.5090729423}, {\"Age\": 55, \"Gender\": \"Female\", \"Percentage of people who are left-handed\": 8.6751042496}, {\"Age\": 56, \"Gender\": \"Female\", \"Percentage of people who are left-handed\": 8.1415249547}, {\"Age\": 57, \"Gender\": \"Female\", \"Percentage of people who are left-handed\": 8.0776973315}, {\"Age\": 58, \"Gender\": \"Female\", \"Percentage of people who are left-handed\": 7.8105947816}, {\"Age\": 59, \"Gender\": \"Female\", \"Percentage of people who are left-handed\": 8.027137098999999}, {\"Age\": 60, \"Gender\": \"Female\", \"Percentage of people who are left-handed\": 7.6533382599}, {\"Age\": 61, \"Gender\": \"Female\", \"Percentage of people who are left-handed\": 7.206744380499999}, {\"Age\": 62, \"Gender\": \"Female\", \"Percentage of people who are left-handed\": 7.3960917512}, {\"Age\": 63, \"Gender\": \"Female\", \"Percentage of people who are left-handed\": 6.561303355800001}, {\"Age\": 64, \"Gender\": \"Female\", \"Percentage of people who are left-handed\": 6.744014223}, {\"Age\": 65, \"Gender\": \"Female\", \"Percentage of people who are left-handed\": 6.9333822861000005}, {\"Age\": 66, \"Gender\": \"Female\", \"Percentage of people who are left-handed\": 6.715994459199999}, {\"Age\": 67, \"Gender\": \"Female\", \"Percentage of people who are left-handed\": 6.2907751670000005}, {\"Age\": 68, \"Gender\": \"Female\", \"Percentage of people who are left-handed\": 6.598821517899999}, {\"Age\": 69, \"Gender\": \"Female\", \"Percentage of people who are left-handed\": 6.283987697000001}, {\"Age\": 70, \"Gender\": \"Female\", \"Percentage of people who are left-handed\": 5.4930000149}, {\"Age\": 71, \"Gender\": \"Female\", \"Percentage of people who are left-handed\": 5.7925665863999996}, {\"Age\": 72, \"Gender\": \"Female\", \"Percentage of people who are left-handed\": 6.6043976812}, {\"Age\": 73, \"Gender\": \"Female\", \"Percentage of people who are left-handed\": 5.8653905051}, {\"Age\": 74, \"Gender\": \"Female\", \"Percentage of people who are left-handed\": 5.2489518963}, {\"Age\": 75, \"Gender\": \"Female\", \"Percentage of people who are left-handed\": 5.4434439825}, {\"Age\": 76, \"Gender\": \"Female\", \"Percentage of people who are left-handed\": 5.9585909371}, {\"Age\": 77, \"Gender\": \"Female\", \"Percentage of people who are left-handed\": 5.5936110813}, {\"Age\": 78, \"Gender\": \"Female\", \"Percentage of people who are left-handed\": 6.0913585583000005}, {\"Age\": 79, \"Gender\": \"Female\", \"Percentage of people who are left-handed\": 5.4900924123}, {\"Age\": 80, \"Gender\": \"Female\", \"Percentage of people who are left-handed\": 6.0564228166}, {\"Age\": 81, \"Gender\": \"Female\", \"Percentage of people who are left-handed\": 4.7794909812}, {\"Age\": 82, \"Gender\": \"Female\", \"Percentage of people who are left-handed\": 4.8748989262}, {\"Age\": 83, \"Gender\": \"Female\", \"Percentage of people who are left-handed\": 5.672535617}, {\"Age\": 84, \"Gender\": \"Female\", \"Percentage of people who are left-handed\": 5.7748814804999995}, {\"Age\": 85, \"Gender\": \"Female\", \"Percentage of people who are left-handed\": 7.0514589044000004}, {\"Age\": 86, \"Gender\": \"Female\", \"Percentage of people who are left-handed\": 4.680947958}]}}, {\"mode\": \"vega-lite\"});\n",
       "</script>"
      ],
      "text/plain": [
       "alt.Chart(...)"
      ]
     },
     "execution_count": 207,
     "metadata": {},
     "output_type": "execute_result"
    }
   ],
   "source": [
    "#collapse\n",
    "left_vis = ( lefthanded_data\n",
    "            .melt(id_vars=['Age'], var_name='Gender', value_name='Percentage of people who are left-handed')\n",
    "           ) \n",
    "\n",
    "dots = alt.Chart(left_vis).mark_point().encode(\n",
    "    x='Age:Q', \n",
    "    y=alt.Y('Percentage of people who are left-handed:Q', axis=alt.Axis(title='Percentage of people who are left-handed')),\n",
    "    color='Gender:N')\n",
    "\n",
    "dots"
   ]
  },
  {
   "cell_type": "markdown",
   "metadata": {
    "dc": {
     "key": "11"
    },
    "run_control": {
     "frozen": true
    },
    "tags": [
     "context"
    ]
   },
   "source": [
    "## Rates of left-handedness over time\n",
    "<p>Let's convert this data into a plot of the rates of left-handedness as a function of the year of birth, and average over male and female to get a single rate for both sexes. </p>\n",
    "<p>Since the study was done in 1986, the data after this conversion will be the percentage of people alive in 1986 who are left-handed as a function of the year they were born. </p>"
   ]
  },
  {
   "cell_type": "code",
   "execution_count": 208,
   "metadata": {},
   "outputs": [
    {
     "data": {
      "text/html": [
       "\n",
       "<div id=\"altair-viz-335416a9a0c24df0ae61b44c88c13aea\"></div>\n",
       "<script type=\"text/javascript\">\n",
       "  (function(spec, embedOpt){\n",
       "    let outputDiv = document.currentScript.previousElementSibling;\n",
       "    if (outputDiv.id !== \"altair-viz-335416a9a0c24df0ae61b44c88c13aea\") {\n",
       "      outputDiv = document.getElementById(\"altair-viz-335416a9a0c24df0ae61b44c88c13aea\");\n",
       "    }\n",
       "    const paths = {\n",
       "      \"vega\": \"https://cdn.jsdelivr.net/npm//vega@5?noext\",\n",
       "      \"vega-lib\": \"https://cdn.jsdelivr.net/npm//vega-lib?noext\",\n",
       "      \"vega-lite\": \"https://cdn.jsdelivr.net/npm//vega-lite@4.8.1?noext\",\n",
       "      \"vega-embed\": \"https://cdn.jsdelivr.net/npm//vega-embed@6?noext\",\n",
       "    };\n",
       "\n",
       "    function loadScript(lib) {\n",
       "      return new Promise(function(resolve, reject) {\n",
       "        var s = document.createElement('script');\n",
       "        s.src = paths[lib];\n",
       "        s.async = true;\n",
       "        s.onload = () => resolve(paths[lib]);\n",
       "        s.onerror = () => reject(`Error loading script: ${paths[lib]}`);\n",
       "        document.getElementsByTagName(\"head\")[0].appendChild(s);\n",
       "      });\n",
       "    }\n",
       "\n",
       "    function showError(err) {\n",
       "      outputDiv.innerHTML = `<div class=\"error\" style=\"color:red;\">${err}</div>`;\n",
       "      throw err;\n",
       "    }\n",
       "\n",
       "    function displayChart(vegaEmbed) {\n",
       "      vegaEmbed(outputDiv, spec, embedOpt)\n",
       "        .catch(err => showError(`Javascript Error: ${err.message}<br>This usually means there's a typo in your chart specification. See the javascript console for the full traceback.`));\n",
       "    }\n",
       "\n",
       "    if(typeof define === \"function\" && define.amd) {\n",
       "      requirejs.config({paths});\n",
       "      require([\"vega-embed\"], displayChart, err => showError(`Error loading script: ${err.message}`));\n",
       "    } else if (typeof vegaEmbed === \"function\") {\n",
       "      displayChart(vegaEmbed);\n",
       "    } else {\n",
       "      loadScript(\"vega\")\n",
       "        .then(() => loadScript(\"vega-lite\"))\n",
       "        .then(() => loadScript(\"vega-embed\"))\n",
       "        .catch(showError)\n",
       "        .then(() => displayChart(vegaEmbed));\n",
       "    }\n",
       "  })({\"config\": {\"view\": {\"continuousWidth\": 400, \"continuousHeight\": 300}}, \"data\": {\"name\": \"data-a61d2a4ef595e95b9d373984e9e9fc66\"}, \"mark\": \"area\", \"encoding\": {\"x\": {\"type\": \"temporal\", \"field\": \"Birth Year\"}, \"y\": {\"type\": \"quantitative\", \"axis\": {\"format\": \"%\", \"title\": \"Percentage of people who are left-handed\"}, \"field\": \"L_Percent\"}}, \"$schema\": \"https://vega.github.io/schema/vega-lite/v4.8.1.json\", \"datasets\": {\"data-a61d2a4ef595e95b9d373984e9e9fc66\": [{\"Age\": 10, \"Male\": 12.717558484000001, \"Female\": 12.1980406599, \"Birth Year\": \"1976-01-01T00:00:00\", \"L_Percent\": 0.12457799571950001}, {\"Age\": 11, \"Male\": 15.3188295861, \"Female\": 11.1448043104, \"Birth Year\": \"1975-01-01T00:00:00\", \"L_Percent\": 0.1323181694825}, {\"Age\": 12, \"Male\": 14.8082807769, \"Female\": 11.5492397993, \"Birth Year\": \"1974-01-01T00:00:00\", \"L_Percent\": 0.131787602881}, {\"Age\": 13, \"Male\": 13.7937436118, \"Female\": 11.2764416943, \"Birth Year\": \"1973-01-01T00:00:00\", \"L_Percent\": 0.1253509265305}, {\"Age\": 14, \"Male\": 15.1563041001, \"Female\": 11.5729060811, \"Birth Year\": \"1972-01-01T00:00:00\", \"L_Percent\": 0.13364605090599999}, {\"Age\": 15, \"Male\": 14.086185732799999, \"Female\": 12.0777308322, \"Birth Year\": \"1971-01-01T00:00:00\", \"L_Percent\": 0.130819582825}, {\"Age\": 16, \"Male\": 14.148992838599998, \"Female\": 12.057432040999998, \"Birth Year\": \"1970-01-01T00:00:00\", \"L_Percent\": 0.131032124398}, {\"Age\": 17, \"Male\": 14.5225240193, \"Female\": 11.5244420198, \"Birth Year\": \"1969-01-01T00:00:00\", \"L_Percent\": 0.1302348301955}, {\"Age\": 18, \"Male\": 14.7270085305, \"Female\": 12.1795500237, \"Birth Year\": \"1968-01-01T00:00:00\", \"L_Percent\": 0.13453279277099997}, {\"Age\": 19, \"Male\": 15.0693709779, \"Female\": 11.8829043905, \"Birth Year\": \"1967-01-01T00:00:00\", \"L_Percent\": 0.134761376842}, {\"Age\": 20, \"Male\": 15.546783590999999, \"Female\": 11.9706063024, \"Birth Year\": \"1966-01-01T00:00:00\", \"L_Percent\": 0.137586949467}, {\"Age\": 21, \"Male\": 15.355535489100001, \"Female\": 12.154898996099998, \"Birth Year\": \"1965-01-01T00:00:00\", \"L_Percent\": 0.137552172426}, {\"Age\": 22, \"Male\": 13.9310353964, \"Female\": 12.8721657246, \"Birth Year\": \"1964-01-01T00:00:00\", \"L_Percent\": 0.13401600560500002}, {\"Age\": 23, \"Male\": 14.758584558099999, \"Female\": 11.5399365158, \"Birth Year\": \"1963-01-01T00:00:00\", \"L_Percent\": 0.1314926053695}, {\"Age\": 24, \"Male\": 14.405858627799999, \"Female\": 11.3314479594, \"Birth Year\": \"1962-01-01T00:00:00\", \"L_Percent\": 0.128686532936}, {\"Age\": 25, \"Male\": 13.7574129893, \"Female\": 11.6767482018, \"Birth Year\": \"1961-01-01T00:00:00\", \"L_Percent\": 0.1271708059555}, {\"Age\": 26, \"Male\": 13.5547399141, \"Female\": 10.865891341400001, \"Birth Year\": \"1960-01-01T00:00:00\", \"L_Percent\": 0.12210315627750001}, {\"Age\": 27, \"Male\": 14.2060094656, \"Female\": 12.3094022945, \"Birth Year\": \"1959-01-01T00:00:00\", \"L_Percent\": 0.1325770588005}, {\"Age\": 28, \"Male\": 14.43338593, \"Female\": 11.0565877752, \"Birth Year\": \"1958-01-01T00:00:00\", \"L_Percent\": 0.12744986852600002}, {\"Age\": 29, \"Male\": 14.236955953699999, \"Female\": 11.368353318399999, \"Birth Year\": \"1957-01-01T00:00:00\", \"L_Percent\": 0.12802654636049998}, {\"Age\": 30, \"Male\": 14.579011442999999, \"Female\": 11.593085159500001, \"Birth Year\": \"1956-01-01T00:00:00\", \"L_Percent\": 0.1308604830125}, {\"Age\": 31, \"Male\": 14.2093021711, \"Female\": 11.681972696199999, \"Birth Year\": \"1955-01-01T00:00:00\", \"L_Percent\": 0.12945637433649998}, {\"Age\": 32, \"Male\": 14.835156939700001, \"Female\": 11.1043705557, \"Birth Year\": \"1954-01-01T00:00:00\", \"L_Percent\": 0.129697637477}, {\"Age\": 33, \"Male\": 13.868004579, \"Female\": 11.143795335799998, \"Birth Year\": \"1953-01-01T00:00:00\", \"L_Percent\": 0.12505899957400002}, {\"Age\": 34, \"Male\": 14.697279617000001, \"Female\": 10.9261770053, \"Birth Year\": \"1952-01-01T00:00:00\", \"L_Percent\": 0.1281172831115}, {\"Age\": 35, \"Male\": 14.4188258601, \"Female\": 11.431545809200001, \"Birth Year\": \"1951-01-01T00:00:00\", \"L_Percent\": 0.12925185834650002}, {\"Age\": 36, \"Male\": 14.932435885699999, \"Female\": 11.246989960899999, \"Birth Year\": \"1950-01-01T00:00:00\", \"L_Percent\": 0.13089712923299998}, {\"Age\": 37, \"Male\": 14.6433782116, \"Female\": 11.3674474527, \"Birth Year\": \"1949-01-01T00:00:00\", \"L_Percent\": 0.1300541283215}, {\"Age\": 38, \"Male\": 14.087477182999999, \"Female\": 10.8390296785, \"Birth Year\": \"1948-01-01T00:00:00\", \"L_Percent\": 0.12463253430749999}, {\"Age\": 39, \"Male\": 14.3007821248, \"Female\": 10.868419793, \"Birth Year\": \"1947-01-01T00:00:00\", \"L_Percent\": 0.125846009589}, {\"Age\": 40, \"Male\": 13.973229568599999, \"Female\": 10.5591038724, \"Birth Year\": \"1946-01-01T00:00:00\", \"L_Percent\": 0.12266166720499999}, {\"Age\": 41, \"Male\": 13.774298549600001, \"Female\": 11.643192905, \"Birth Year\": \"1945-01-01T00:00:00\", \"L_Percent\": 0.127087457273}, {\"Age\": 42, \"Male\": 13.744226443199999, \"Female\": 10.494510315800001, \"Birth Year\": \"1944-01-01T00:00:00\", \"L_Percent\": 0.12119368379499999}, {\"Age\": 43, \"Male\": 13.439010281300002, \"Female\": 10.990944634100002, \"Birth Year\": \"1943-01-01T00:00:00\", \"L_Percent\": 0.12214977457700002}, {\"Age\": 44, \"Male\": 13.7696442451, \"Female\": 11.3891911064, \"Birth Year\": \"1942-01-01T00:00:00\", \"L_Percent\": 0.12579417675750001}, {\"Age\": 45, \"Male\": 13.9991824154, \"Female\": 10.079109894, \"Birth Year\": \"1941-01-01T00:00:00\", \"L_Percent\": 0.12039146154699999}, {\"Age\": 46, \"Male\": 13.535488741400002, \"Female\": 10.3572887459, \"Birth Year\": \"1940-01-01T00:00:00\", \"L_Percent\": 0.11946388743650001}, {\"Age\": 47, \"Male\": 13.4881439299, \"Female\": 10.2647174146, \"Birth Year\": \"1939-01-01T00:00:00\", \"L_Percent\": 0.11876430672249999}, {\"Age\": 48, \"Male\": 13.1995097898, \"Female\": 9.8920729742, \"Birth Year\": \"1938-01-01T00:00:00\", \"L_Percent\": 0.11545791382000001}, {\"Age\": 49, \"Male\": 12.483963995, \"Female\": 9.251517039, \"Birth Year\": \"1937-01-01T00:00:00\", \"L_Percent\": 0.10867740516999999}, {\"Age\": 50, \"Male\": 11.8099935257, \"Female\": 9.405773371699999, \"Birth Year\": \"1936-01-01T00:00:00\", \"L_Percent\": 0.10607883448699999}, {\"Age\": 51, \"Male\": 11.398049288900001, \"Female\": 9.5879439468, \"Birth Year\": \"1935-01-01T00:00:00\", \"L_Percent\": 0.1049299661785}, {\"Age\": 52, \"Male\": 11.3466922907, \"Female\": 8.7009078502, \"Birth Year\": \"1934-01-01T00:00:00\", \"L_Percent\": 0.10023800070450001}, {\"Age\": 53, \"Male\": 11.5218212153, \"Female\": 8.7539637034, \"Birth Year\": \"1933-01-01T00:00:00\", \"L_Percent\": 0.1013789245935}, {\"Age\": 54, \"Male\": 11.5293773022, \"Female\": 8.5090729423, \"Birth Year\": \"1932-01-01T00:00:00\", \"L_Percent\": 0.10019225122249999}, {\"Age\": 55, \"Male\": 11.5152680574, \"Female\": 8.6751042496, \"Birth Year\": \"1931-01-01T00:00:00\", \"L_Percent\": 0.100951861535}, {\"Age\": 56, \"Male\": 11.0123447297, \"Female\": 8.1415249547, \"Birth Year\": \"1930-01-01T00:00:00\", \"L_Percent\": 0.095769348422}, {\"Age\": 57, \"Male\": 11.9092617946, \"Female\": 8.0776973315, \"Birth Year\": \"1929-01-01T00:00:00\", \"L_Percent\": 0.0999347956305}, {\"Age\": 58, \"Male\": 10.6185404075, \"Female\": 7.8105947816, \"Birth Year\": \"1928-01-01T00:00:00\", \"L_Percent\": 0.0921456759455}, {\"Age\": 59, \"Male\": 10.1666386123, \"Female\": 8.027137098999999, \"Birth Year\": \"1927-01-01T00:00:00\", \"L_Percent\": 0.09096887855649999}, {\"Age\": 60, \"Male\": 9.878731869400001, \"Female\": 7.6533382599, \"Birth Year\": \"1926-01-01T00:00:00\", \"L_Percent\": 0.08766035064650002}, {\"Age\": 61, \"Male\": 9.8947261547, \"Female\": 7.206744380499999, \"Birth Year\": \"1925-01-01T00:00:00\", \"L_Percent\": 0.085507352676}, {\"Age\": 62, \"Male\": 9.247996185, \"Female\": 7.3960917512, \"Birth Year\": \"1924-01-01T00:00:00\", \"L_Percent\": 0.08322043968100001}, {\"Age\": 63, \"Male\": 8.6001095951, \"Female\": 6.561303355800001, \"Birth Year\": \"1923-01-01T00:00:00\", \"L_Percent\": 0.0758070647545}, {\"Age\": 64, \"Male\": 8.2907078724, \"Female\": 6.744014223, \"Birth Year\": \"1922-01-01T00:00:00\", \"L_Percent\": 0.075173610477}, {\"Age\": 65, \"Male\": 8.562868184, \"Female\": 6.9333822861000005, \"Birth Year\": \"1921-01-01T00:00:00\", \"L_Percent\": 0.0774812523505}, {\"Age\": 66, \"Male\": 8.7697252993, \"Female\": 6.715994459199999, \"Birth Year\": \"1920-01-01T00:00:00\", \"L_Percent\": 0.0774285987925}, {\"Age\": 67, \"Male\": 8.5759555794, \"Female\": 6.2907751670000005, \"Birth Year\": \"1919-01-01T00:00:00\", \"L_Percent\": 0.07433365373200002}, {\"Age\": 68, \"Male\": 8.0743890039, \"Female\": 6.598821517899999, \"Birth Year\": \"1918-01-01T00:00:00\", \"L_Percent\": 0.073366052609}, {\"Age\": 69, \"Male\": 8.5416528788, \"Female\": 6.283987697000001, \"Birth Year\": \"1917-01-01T00:00:00\", \"L_Percent\": 0.074128202879}, {\"Age\": 70, \"Male\": 7.9268315708, \"Female\": 5.4930000149, \"Birth Year\": \"1916-01-01T00:00:00\", \"L_Percent\": 0.06709915792849999}, {\"Age\": 71, \"Male\": 8.3659110245, \"Female\": 5.7925665863999996, \"Birth Year\": \"1915-01-01T00:00:00\", \"L_Percent\": 0.0707923880545}, {\"Age\": 72, \"Male\": 7.559046544400001, \"Female\": 6.6043976812, \"Birth Year\": \"1914-01-01T00:00:00\", \"L_Percent\": 0.070817221128}, {\"Age\": 73, \"Male\": 7.4701778483000005, \"Female\": 5.8653905051, \"Birth Year\": \"1913-01-01T00:00:00\", \"L_Percent\": 0.06667784176699999}, {\"Age\": 74, \"Male\": 7.0813217982, \"Female\": 5.2489518963, \"Birth Year\": \"1912-01-01T00:00:00\", \"L_Percent\": 0.0616513684725}, {\"Age\": 75, \"Male\": 8.2534782691, \"Female\": 5.4434439825, \"Birth Year\": \"1911-01-01T00:00:00\", \"L_Percent\": 0.068484611258}, {\"Age\": 76, \"Male\": 8.7698819174, \"Female\": 5.9585909371, \"Birth Year\": \"1910-01-01T00:00:00\", \"L_Percent\": 0.0736423642725}, {\"Age\": 77, \"Male\": 5.3970685, \"Female\": 5.5936110813, \"Birth Year\": \"1909-01-01T00:00:00\", \"L_Percent\": 0.0549533979065}, {\"Age\": 78, \"Male\": 6.9372037708, \"Female\": 6.0913585583000005, \"Birth Year\": \"1908-01-01T00:00:00\", \"L_Percent\": 0.06514281164550001}, {\"Age\": 79, \"Male\": 4.8859994098, \"Female\": 5.4900924123, \"Birth Year\": \"1907-01-01T00:00:00\", \"L_Percent\": 0.05188045911050001}, {\"Age\": 80, \"Male\": 6.9393815785, \"Female\": 6.0564228166, \"Birth Year\": \"1906-01-01T00:00:00\", \"L_Percent\": 0.0649790219755}, {\"Age\": 81, \"Male\": 7.1881984669, \"Female\": 4.7794909812, \"Birth Year\": \"1905-01-01T00:00:00\", \"L_Percent\": 0.0598384472405}, {\"Age\": 82, \"Male\": 7.350203849600001, \"Female\": 4.8748989262, \"Birth Year\": \"1904-01-01T00:00:00\", \"L_Percent\": 0.061125513879}, {\"Age\": 83, \"Male\": 6.471204188500001, \"Female\": 5.672535617, \"Birth Year\": \"1903-01-01T00:00:00\", \"L_Percent\": 0.0607186990275}, {\"Age\": 84, \"Male\": 6.5108576166, \"Female\": 5.7748814804999995, \"Birth Year\": \"1902-01-01T00:00:00\", \"L_Percent\": 0.06142869548549999}, {\"Age\": 85, \"Male\": 7.3379680795, \"Female\": 7.0514589044000004, \"Birth Year\": \"1901-01-01T00:00:00\", \"L_Percent\": 0.07194713491950001}, {\"Age\": 86, \"Male\": 5.059387305, \"Female\": 4.680947958, \"Birth Year\": \"1900-01-01T00:00:00\", \"L_Percent\": 0.04870167631499999}]}}, {\"mode\": \"vega-lite\"});\n",
       "</script>"
      ],
      "text/plain": [
       "alt.Chart(...)"
      ]
     },
     "execution_count": 208,
     "metadata": {},
     "output_type": "execute_result"
    }
   ],
   "source": [
    "#collapse\n",
    "lefthanded_data['Birth Year'] = pd.to_datetime(1986 - lefthanded_data['Age'], format=\"%Y\")\n",
    "\n",
    "lefthanded_data['L_Percent'] = lefthanded_data[['Female', 'Male']].mean(axis=1) / 100\n",
    "\n",
    "\n",
    "chart = alt.Chart(lefthanded_data).mark_area().encode(\n",
    "    x='Birth Year:T', \n",
    "    y=alt.Y('L_Percent:Q', axis=alt.Axis(format='%', title='Percentage of people who are left-handed'))\n",
    ")\n",
    "\n",
    "chart"
   ]
  },
  {
   "cell_type": "code",
   "execution_count": 209,
   "metadata": {},
   "outputs": [],
   "source": [
    "lefthanded_data['Birth Year'] = lefthanded_data['Birth Year'].dt.year"
   ]
  },
  {
   "cell_type": "markdown",
   "metadata": {
    "dc": {
     "key": "18"
    },
    "run_control": {
     "frozen": true
    },
    "tags": [
     "context"
    ]
   },
   "source": [
    "## Applying Bayes' rule\n",
    "<p>The probability of dying at a certain age given that you're left-handed is <strong>not</strong> equal to the probability of being left-handed given that you died at a certain age. This inequality is why we need <strong>Bayes' theorem</strong>, a statement about conditional probability which allows us to update our beliefs after seeing evidence. </p>\n",
    "<p>We want to calculate the probability of dying at age A given that you're left-handed. Let's write this in shorthand as P(A | LH). We also want the same quantity for right-handers: P(A | RH). </p>\n",
    "<p>Here's Bayes' theorem for the two events we care about: left-handedness (LH) and dying at age A.</p>\n",
    "<p>$$P(A | LH) = \\frac{P(LH|A) P(A)}{P(LH)}$$</p>\n",
    "<p>P(LH | A) is the probability that you are left-handed <em>given that</em> you died at age A. P(A) is the overall probability of dying at age A, and P(LH) is the overall probability of being left-handed. We will now calculate each of these three quantities, beginning with P(LH | A).</p>\n",
    "<p>To calculate P(LH | A) for ages that might fall outside the original data, we will need to extrapolate the data to earlier and later years. Since the rates flatten out in the early 1900s and late 1900s, we'll use a few points at each end and take the mean to extrapolate the rates on each end. The number of points used for this is arbitrary, but we'll pick 10 since the data looks flat-ish until about 1910. </p>"
   ]
  },
  {
   "cell_type": "markdown",
   "metadata": {},
   "source": [
    "\n",
    "$$P(A | LH) = \\frac{P(LH|A) P(A)}{P(LH)}$$"
   ]
  },
  {
   "cell_type": "code",
   "execution_count": 210,
   "metadata": {
    "dc": {
     "key": "18"
    },
    "tags": [
     "sample_code"
    ]
   },
   "outputs": [],
   "source": [
    "# create a function for P(LH | A)\n",
    "def P_lh_given_A(ages_of_death, study_year = 1990):\n",
    "    \"\"\" P(Left-handed | ages of death), calculated based on the reported rates of left-handedness.\n",
    "    Inputs: numpy array of ages of death, study_year\n",
    "    Returns: probability of left-handedness given that subjects died in `study_year` at ages `ages_of_death` \"\"\"\n",
    "    \n",
    "    # Use the mean of the 10 last and 10 first points for left-handedness rates before and after the start \n",
    "    early_1900s_rate = lefthanded_data.loc[lefthanded_data['Birth Year'].sort_values().head(10).index, 'L_Percent'].mean()\n",
    "    late_1900s_rate = lefthanded_data.loc[lefthanded_data['Birth Year'].sort_values(ascending=False).head(10).index, 'L_Percent'].mean()\n",
    "    middle_rates = lefthanded_data.loc[lefthanded_data['Birth Year'].isin(study_year - ages_of_death)]['L_Percent']\n",
    "    youngest_age = study_year - 1986 + 10 # the youngest age is 10\n",
    "    oldest_age = study_year - 1986 + 86 # the oldest age is 86\n",
    "    \n",
    "    P_return = np.zeros(ages_of_death.shape) # create an empty array to store the results\n",
    "    # extract rate of left-handedness for people of ages 'ages_of_death'\n",
    "    P_return[ages_of_death > oldest_age] =  early_1900s_rate\n",
    "    P_return[ages_of_death < youngest_age] = late_1900s_rate \n",
    "    P_return[np.logical_and((ages_of_death <= oldest_age), (ages_of_death >= youngest_age))] = middle_rates \n",
    "    \n",
    "    return P_return"
   ]
  },
  {
   "cell_type": "markdown",
   "metadata": {
    "dc": {
     "key": "25"
    },
    "run_control": {
     "frozen": true
    },
    "tags": [
     "context"
    ]
   },
   "source": [
    "## When do people normally die?\n",
    "<p>To estimate the probability of living to an age A, we can use data that gives the number of people who died in a given year and how old they were to create a distribution of ages of death. If we normalize the numbers to the total number of people who died, we can think of this data as a probability distribution that gives the probability of dying at age A. The data we'll use for this is from the entire US for the year 1999 - the closest I could find for the time range we're interested in. </p>\n",
    "<p>In this block, we'll load in the death distribution data and plot it. The first column is the age, and the other columns are the number of people who died at that age. </p>"
   ]
  },
  {
   "cell_type": "code",
   "execution_count": 211,
   "metadata": {},
   "outputs": [
    {
     "data": {
      "text/html": [
       "\n",
       "<div id=\"altair-viz-8978a366a30b4075acbba711b21bba11\"></div>\n",
       "<script type=\"text/javascript\">\n",
       "  (function(spec, embedOpt){\n",
       "    let outputDiv = document.currentScript.previousElementSibling;\n",
       "    if (outputDiv.id !== \"altair-viz-8978a366a30b4075acbba711b21bba11\") {\n",
       "      outputDiv = document.getElementById(\"altair-viz-8978a366a30b4075acbba711b21bba11\");\n",
       "    }\n",
       "    const paths = {\n",
       "      \"vega\": \"https://cdn.jsdelivr.net/npm//vega@5?noext\",\n",
       "      \"vega-lib\": \"https://cdn.jsdelivr.net/npm//vega-lib?noext\",\n",
       "      \"vega-lite\": \"https://cdn.jsdelivr.net/npm//vega-lite@4.8.1?noext\",\n",
       "      \"vega-embed\": \"https://cdn.jsdelivr.net/npm//vega-embed@6?noext\",\n",
       "    };\n",
       "\n",
       "    function loadScript(lib) {\n",
       "      return new Promise(function(resolve, reject) {\n",
       "        var s = document.createElement('script');\n",
       "        s.src = paths[lib];\n",
       "        s.async = true;\n",
       "        s.onload = () => resolve(paths[lib]);\n",
       "        s.onerror = () => reject(`Error loading script: ${paths[lib]}`);\n",
       "        document.getElementsByTagName(\"head\")[0].appendChild(s);\n",
       "      });\n",
       "    }\n",
       "\n",
       "    function showError(err) {\n",
       "      outputDiv.innerHTML = `<div class=\"error\" style=\"color:red;\">${err}</div>`;\n",
       "      throw err;\n",
       "    }\n",
       "\n",
       "    function displayChart(vegaEmbed) {\n",
       "      vegaEmbed(outputDiv, spec, embedOpt)\n",
       "        .catch(err => showError(`Javascript Error: ${err.message}<br>This usually means there's a typo in your chart specification. See the javascript console for the full traceback.`));\n",
       "    }\n",
       "\n",
       "    if(typeof define === \"function\" && define.amd) {\n",
       "      requirejs.config({paths});\n",
       "      require([\"vega-embed\"], displayChart, err => showError(`Error loading script: ${err.message}`));\n",
       "    } else if (typeof vegaEmbed === \"function\") {\n",
       "      displayChart(vegaEmbed);\n",
       "    } else {\n",
       "      loadScript(\"vega\")\n",
       "        .then(() => loadScript(\"vega-lite\"))\n",
       "        .then(() => loadScript(\"vega-embed\"))\n",
       "        .catch(showError)\n",
       "        .then(() => displayChart(vegaEmbed));\n",
       "    }\n",
       "  })({\"config\": {\"view\": {\"continuousWidth\": 400, \"continuousHeight\": 300}}, \"data\": {\"name\": \"data-8c8623777673ef10fb5b1cb8808d3952\"}, \"mark\": \"area\", \"encoding\": {\"x\": {\"type\": \"quantitative\", \"field\": \"Age\"}, \"y\": {\"type\": \"quantitative\", \"field\": \"Total Deaths\"}}, \"$schema\": \"https://vega.github.io/schema/vega-lite/v4.8.1.json\", \"datasets\": {\"data-8c8623777673ef10fb5b1cb8808d3952\": [{\"Age\": 0, \"Total Deaths\": 27937.0, \"Male\": 15646.0, \"Female\": 12291.0}, {\"Age\": 1, \"Total Deaths\": 1989.0, \"Male\": 1103.0, \"Female\": 886.0}, {\"Age\": 2, \"Total Deaths\": 1376.0, \"Male\": 797.0, \"Female\": 579.0}, {\"Age\": 3, \"Total Deaths\": 1046.0, \"Male\": 601.0, \"Female\": 445.0}, {\"Age\": 4, \"Total Deaths\": 838.0, \"Male\": 474.0, \"Female\": 364.0}, {\"Age\": 5, \"Total Deaths\": 763.0, \"Male\": 446.0, \"Female\": 317.0}, {\"Age\": 6, \"Total Deaths\": 696.0, \"Male\": 384.0, \"Female\": 312.0}, {\"Age\": 7, \"Total Deaths\": 683.0, \"Male\": 386.0, \"Female\": 297.0}, {\"Age\": 8, \"Total Deaths\": 692.0, \"Male\": 389.0, \"Female\": 303.0}, {\"Age\": 9, \"Total Deaths\": 640.0, \"Male\": 359.0, \"Female\": 281.0}, {\"Age\": 10, \"Total Deaths\": 687.0, \"Male\": 394.0, \"Female\": 293.0}, {\"Age\": 11, \"Total Deaths\": 711.0, \"Male\": 415.0, \"Female\": 296.0}, {\"Age\": 12, \"Total Deaths\": 717.0, \"Male\": 414.0, \"Female\": 303.0}, {\"Age\": 13, \"Total Deaths\": 847.0, \"Male\": 551.0, \"Female\": 296.0}, {\"Age\": 14, \"Total Deaths\": 1159.0, \"Male\": 754.0, \"Female\": 405.0}, {\"Age\": 15, \"Total Deaths\": 1509.0, \"Male\": 997.0, \"Female\": 512.0}, {\"Age\": 16, \"Total Deaths\": 2354.0, \"Male\": 1570.0, \"Female\": 784.0}, {\"Age\": 17, \"Total Deaths\": 2904.0, \"Male\": 2012.0, \"Female\": 892.0}, {\"Age\": 18, \"Total Deaths\": 3404.0, \"Male\": 2500.0, \"Female\": 904.0}, {\"Age\": 19, \"Total Deaths\": 3607.0, \"Male\": 2701.0, \"Female\": 906.0}, {\"Age\": 20, \"Total Deaths\": 3501.0, \"Male\": 2616.0, \"Female\": 885.0}, {\"Age\": 21, \"Total Deaths\": 3538.0, \"Male\": 2678.0, \"Female\": 860.0}, {\"Age\": 22, \"Total Deaths\": 3373.0, \"Male\": 2541.0, \"Female\": 832.0}, {\"Age\": 23, \"Total Deaths\": 3288.0, \"Male\": 2461.0, \"Female\": 827.0}, {\"Age\": 24, \"Total Deaths\": 3178.0, \"Male\": 2338.0, \"Female\": 840.0}, {\"Age\": 25, \"Total Deaths\": 3137.0, \"Male\": 2253.0, \"Female\": 884.0}, {\"Age\": 26, \"Total Deaths\": 3277.0, \"Male\": 2368.0, \"Female\": 909.0}, {\"Age\": 27, \"Total Deaths\": 3549.0, \"Male\": 2512.0, \"Female\": 1037.0}, {\"Age\": 28, \"Total Deaths\": 3762.0, \"Male\": 2642.0, \"Female\": 1120.0}, {\"Age\": 29, \"Total Deaths\": 3978.0, \"Male\": 2767.0, \"Female\": 1211.0}, {\"Age\": 30, \"Total Deaths\": 4005.0, \"Male\": 2710.0, \"Female\": 1295.0}, {\"Age\": 31, \"Total Deaths\": 4184.0, \"Male\": 2828.0, \"Female\": 1356.0}, {\"Age\": 32, \"Total Deaths\": 4599.0, \"Male\": 3113.0, \"Female\": 1486.0}, {\"Age\": 33, \"Total Deaths\": 4965.0, \"Male\": 3331.0, \"Female\": 1634.0}, {\"Age\": 34, \"Total Deaths\": 5610.0, \"Male\": 3752.0, \"Female\": 1858.0}, {\"Age\": 35, \"Total Deaths\": 6275.0, \"Male\": 4165.0, \"Female\": 2110.0}, {\"Age\": 36, \"Total Deaths\": 6667.0, \"Male\": 4288.0, \"Female\": 2379.0}, {\"Age\": 37, \"Total Deaths\": 7306.0, \"Male\": 4714.0, \"Female\": 2592.0}, {\"Age\": 38, \"Total Deaths\": 8041.0, \"Male\": 5113.0, \"Female\": 2928.0}, {\"Age\": 39, \"Total Deaths\": 8515.0, \"Male\": 5401.0, \"Female\": 3114.0}, {\"Age\": 40, \"Total Deaths\": 9036.0, \"Male\": 5780.0, \"Female\": 3256.0}, {\"Age\": 41, \"Total Deaths\": 9807.0, \"Male\": 6270.0, \"Female\": 3537.0}, {\"Age\": 42, \"Total Deaths\": 10473.0, \"Male\": 6646.0, \"Female\": 3827.0}, {\"Age\": 43, \"Total Deaths\": 11212.0, \"Male\": 7183.0, \"Female\": 4029.0}, {\"Age\": 44, \"Total Deaths\": 11924.0, \"Male\": 7558.0, \"Female\": 4366.0}, {\"Age\": 45, \"Total Deaths\": 12407.0, \"Male\": 7839.0, \"Female\": 4568.0}, {\"Age\": 46, \"Total Deaths\": 13106.0, \"Male\": 8392.0, \"Female\": 4714.0}, {\"Age\": 47, \"Total Deaths\": 13550.0, \"Male\": 8645.0, \"Female\": 4905.0}, {\"Age\": 48, \"Total Deaths\": 14039.0, \"Male\": 8930.0, \"Female\": 5109.0}, {\"Age\": 49, \"Total Deaths\": 15018.0, \"Male\": 9497.0, \"Female\": 5521.0}, {\"Age\": 50, \"Total Deaths\": 15633.0, \"Male\": 9775.0, \"Female\": 5858.0}, {\"Age\": 51, \"Total Deaths\": 16870.0, \"Male\": 10470.0, \"Female\": 6400.0}, {\"Age\": 52, \"Total Deaths\": 18686.0, \"Male\": 11509.0, \"Female\": 7177.0}, {\"Age\": 53, \"Total Deaths\": 16198.0, \"Male\": 9885.0, \"Female\": 6313.0}, {\"Age\": 54, \"Total Deaths\": 17467.0, \"Male\": 10717.0, \"Female\": 6750.0}, {\"Age\": 55, \"Total Deaths\": 19151.0, \"Male\": 11728.0, \"Female\": 7423.0}, {\"Age\": 56, \"Total Deaths\": 21335.0, \"Male\": 12919.0, \"Female\": 8416.0}, {\"Age\": 57, \"Total Deaths\": 20641.0, \"Male\": 12509.0, \"Female\": 8132.0}, {\"Age\": 58, \"Total Deaths\": 21328.0, \"Male\": 12865.0, \"Female\": 8463.0}, {\"Age\": 59, \"Total Deaths\": 22429.0, \"Male\": 13420.0, \"Female\": 9009.0}, {\"Age\": 60, \"Total Deaths\": 23520.0, \"Male\": 14016.0, \"Female\": 9504.0}, {\"Age\": 61, \"Total Deaths\": 25087.0, \"Male\": 14881.0, \"Female\": 10206.0}, {\"Age\": 62, \"Total Deaths\": 26240.0, \"Male\": 15506.0, \"Female\": 10734.0}, {\"Age\": 63, \"Total Deaths\": 28216.0, \"Male\": 16626.0, \"Female\": 11590.0}, {\"Age\": 64, \"Total Deaths\": 31032.0, \"Male\": 18254.0, \"Female\": 12778.0}, {\"Age\": 65, \"Total Deaths\": 31942.0, \"Male\": 18538.0, \"Female\": 13404.0}, {\"Age\": 66, \"Total Deaths\": 34234.0, \"Male\": 19743.0, \"Female\": 14491.0}, {\"Age\": 67, \"Total Deaths\": 36624.0, \"Male\": 21115.0, \"Female\": 15509.0}, {\"Age\": 68, \"Total Deaths\": 40061.0, \"Male\": 23073.0, \"Female\": 16988.0}, {\"Age\": 69, \"Total Deaths\": 43834.0, \"Male\": 25060.0, \"Female\": 18774.0}, {\"Age\": 70, \"Total Deaths\": 45803.0, \"Male\": 25849.0, \"Female\": 19954.0}, {\"Age\": 71, \"Total Deaths\": 49997.0, \"Male\": 28204.0, \"Female\": 21793.0}, {\"Age\": 72, \"Total Deaths\": 53562.0, \"Male\": 29893.0, \"Female\": 23669.0}, {\"Age\": 73, \"Total Deaths\": 56456.0, \"Male\": 31073.0, \"Female\": 25383.0}, {\"Age\": 74, \"Total Deaths\": 60087.0, \"Male\": 32372.0, \"Female\": 27715.0}, {\"Age\": 75, \"Total Deaths\": 62824.0, \"Male\": 33584.0, \"Female\": 29240.0}, {\"Age\": 76, \"Total Deaths\": 64443.0, \"Male\": 33944.0, \"Female\": 30499.0}, {\"Age\": 77, \"Total Deaths\": 68654.0, \"Male\": 35701.0, \"Female\": 32953.0}, {\"Age\": 78, \"Total Deaths\": 70776.0, \"Male\": 36020.0, \"Female\": 34756.0}, {\"Age\": 79, \"Total Deaths\": 71652.0, \"Male\": 35604.0, \"Female\": 36048.0}, {\"Age\": 80, \"Total Deaths\": 70344.0, \"Male\": 33930.0, \"Female\": 36414.0}, {\"Age\": 81, \"Total Deaths\": 72038.0, \"Male\": 34429.0, \"Female\": 37609.0}, {\"Age\": 82, \"Total Deaths\": 72361.0, \"Male\": 33404.0, \"Female\": 38957.0}, {\"Age\": 83, \"Total Deaths\": 72459.0, \"Male\": 32623.0, \"Female\": 39836.0}, {\"Age\": 84, \"Total Deaths\": 73039.0, \"Male\": 31731.0, \"Female\": 41308.0}, {\"Age\": 85, \"Total Deaths\": 72299.0, \"Male\": 30524.0, \"Female\": 41775.0}, {\"Age\": 86, \"Total Deaths\": 70110.0, \"Male\": 27775.0, \"Female\": 42335.0}, {\"Age\": 87, \"Total Deaths\": 66398.0, \"Male\": 25418.0, \"Female\": 40980.0}, {\"Age\": 88, \"Total Deaths\": 63168.0, \"Male\": 22655.0, \"Female\": 40513.0}, {\"Age\": 89, \"Total Deaths\": 58928.0, \"Male\": 20159.0, \"Female\": 38769.0}, {\"Age\": 90, \"Total Deaths\": 53410.0, \"Male\": 17257.0, \"Female\": 36153.0}, {\"Age\": 91, \"Total Deaths\": 49652.0, \"Male\": 15012.0, \"Female\": 34640.0}, {\"Age\": 92, \"Total Deaths\": 43121.0, \"Male\": 12385.0, \"Female\": 30736.0}, {\"Age\": 93, \"Total Deaths\": 36454.0, \"Male\": 9988.0, \"Female\": 26466.0}, {\"Age\": 94, \"Total Deaths\": 31354.0, \"Male\": 7869.0, \"Female\": 23485.0}, {\"Age\": 95, \"Total Deaths\": 25851.0, \"Male\": 6219.0, \"Female\": 19632.0}, {\"Age\": 96, \"Total Deaths\": 20738.0, \"Male\": 4639.0, \"Female\": 16099.0}, {\"Age\": 97, \"Total Deaths\": 15821.0, \"Male\": 3281.0, \"Female\": 12540.0}, {\"Age\": 98, \"Total Deaths\": 12093.0, \"Male\": 2270.0, \"Female\": 9823.0}, {\"Age\": 99, \"Total Deaths\": 8831.0, \"Male\": 1702.0, \"Female\": 7129.0}, {\"Age\": 100, \"Total Deaths\": 6025.0, \"Male\": 1031.0, \"Female\": 4994.0}, {\"Age\": 101, \"Total Deaths\": 4278.0, \"Male\": 688.0, \"Female\": 3590.0}, {\"Age\": 102, \"Total Deaths\": 2831.0, \"Male\": 430.0, \"Female\": 2401.0}, {\"Age\": 103, \"Total Deaths\": 1808.0, \"Male\": 301.0, \"Female\": 1507.0}, {\"Age\": 104, \"Total Deaths\": 1209.0, \"Male\": 154.0, \"Female\": 1055.0}, {\"Age\": 105, \"Total Deaths\": 750.0, \"Male\": 90.0, \"Female\": 660.0}, {\"Age\": 106, \"Total Deaths\": 431.0, \"Male\": 58.0, \"Female\": 373.0}, {\"Age\": 107, \"Total Deaths\": 263.0, \"Male\": 31.0, \"Female\": 232.0}, {\"Age\": 108, \"Total Deaths\": 136.0, \"Male\": 23.0, \"Female\": 113.0}, {\"Age\": 109, \"Total Deaths\": 84.0, \"Male\": 14.0, \"Female\": 70.0}, {\"Age\": 110, \"Total Deaths\": 40.0, \"Male\": 9.0, \"Female\": 31.0}, {\"Age\": 111, \"Total Deaths\": 21.0, \"Male\": 1.0, \"Female\": 20.0}, {\"Age\": 112, \"Total Deaths\": 12.0, \"Male\": 2.0, \"Female\": 10.0}, {\"Age\": 113, \"Total Deaths\": 9.0, \"Male\": 2.0, \"Female\": 7.0}, {\"Age\": 114, \"Total Deaths\": 6.0, \"Male\": null, \"Female\": 6.0}, {\"Age\": 115, \"Total Deaths\": 3.0, \"Male\": null, \"Female\": 3.0}, {\"Age\": 117, \"Total Deaths\": 3.0, \"Male\": 2.0, \"Female\": 1.0}, {\"Age\": 118, \"Total Deaths\": 1.0, \"Male\": null, \"Female\": 1.0}, {\"Age\": 119, \"Total Deaths\": 2.0, \"Male\": null, \"Female\": 2.0}, {\"Age\": 120, \"Total Deaths\": 1.0, \"Male\": null, \"Female\": 1.0}]}}, {\"mode\": \"vega-lite\"});\n",
       "</script>"
      ],
      "text/plain": [
       "alt.Chart(...)"
      ]
     },
     "execution_count": 211,
     "metadata": {},
     "output_type": "execute_result"
    }
   ],
   "source": [
    "#collapse\n",
    "# Death distribution data for the United States in 1999\n",
    "data_url_2 = \"https://gist.githubusercontent.com/mbonsma/2f4076aab6820ca1807f4e29f75f18ec/raw/62f3ec07514c7e31f5979beeca86f19991540796/cdc_vs00199_table310.tsv\"\n",
    "\n",
    "# load death distribution data\n",
    "death_distribution_data = pd.read_csv(data_url_2, sep='\\t', skiprows=[1])\n",
    "# drop NaN values from the `Both Sexes` column\n",
    "death_distribution_data = death_distribution_data.rename({\"Both Sexes\": \"Total Deaths\"}, axis=1)\n",
    "\n",
    "death_distribution_data = death_distribution_data.loc[~death_distribution_data[\"Total Deaths\"].isna()]\n",
    "\n",
    "( alt\n",
    " .Chart(death_distribution_data)\n",
    " .mark_area()\n",
    " .encode(x='Age:Q', y='Total Deaths:Q')\n",
    ")"
   ]
  },
  {
   "cell_type": "markdown",
   "metadata": {
    "dc": {
     "key": "32"
    },
    "run_control": {
     "frozen": true
    },
    "tags": [
     "context"
    ]
   },
   "source": [
    "## The overall probability of left-handedness\n",
    "<p>In the previous code block we loaded data to give us P(A), and now we need P(LH). P(LH) is the probability that a person who died in our particular study year is left-handed, assuming we know nothing else about them. This is the average left-handedness in the population of deceased people, and we can calculate it by summing up all of the left-handedness probabilities for each age, weighted with the number of deceased people at each age, then divided by the total number of deceased people to get a probability. In equation form, this is what we're calculating, where N(A) is the number of people who died at age A (given by the dataframe <code>death_distribution_data</code>):</p>\n",
    "<p><img src=\"https://i.imgur.com/gBIWykY.png\" alt=\"equation\" width=\"220\"></p>\n",
    "<!--- $$P(LH) = \\frac{\\sum_{\\text{A}} P(LH | A) N(A)}{\\sum_{\\text{A}} N(A)}$$ -->"
   ]
  },
  {
   "cell_type": "code",
   "execution_count": 212,
   "metadata": {
    "dc": {
     "key": "32"
    },
    "tags": [
     "sample_code"
    ]
   },
   "outputs": [
    {
     "name": "stdout",
     "output_type": "stream",
     "text": [
      "The probability of being left handed is: 7.77%\n"
     ]
    }
   ],
   "source": [
    "def P_lh(death_distribution_data, study_year = 1990): # sum over P_lh for each age group\n",
    "    \"\"\" Overall probability of being left-handed if you died in the study year\n",
    "    Input: dataframe of death distribution data, study year\n",
    "    Output: P(LH), a single floating point number \"\"\"\n",
    "    p_list = P_lh_given_A(death_distribution_data['Age'], study_year=study_year) * death_distribution_data['Total Deaths'] # multiply number of dead people by P_lh_given_A\n",
    "    p = sum(p_list)\n",
    "    return p / sum(death_distribution_data['Total Deaths']) # normalize to total number of people (sum of death_distribution_data['Both Sexes'])\n",
    "\n",
    "print(f\"The probability of being left handed is: {P_lh(death_distribution_data):.2%}\")"
   ]
  },
  {
   "cell_type": "markdown",
   "metadata": {
    "dc": {
     "key": "39"
    },
    "run_control": {
     "frozen": true
    },
    "tags": [
     "context"
    ]
   },
   "source": [
    "## Putting it all together: dying while left-handed (i)\n",
    "<p>Now we have the means of calculating all three quantities we need: P(A), P(LH), and P(LH | A). We can combine all three using Bayes' rule to get P(A | LH), the probability of being age A at death (in the study year) given that you're left-handed. To make this answer meaningful, though, we also want to compare it to P(A | RH), the probability of being age A at death given that you're right-handed. </p>\n",
    "<p>We're calculating the following quantity twice, once for left-handers and once for right-handers.</p>\n",
    "<p>$$P(A | LH) = \\frac{P(LH|A) P(A)}{P(LH)}$$</p>\n",
    "<p>First, for left-handers.</p>\n",
    "<!--Notice that I was careful not to call these \"probability of dying at age A\", since that's not actually what we're calculating: we use the exact same death distribution data for each. -->"
   ]
  },
  {
   "cell_type": "code",
   "execution_count": 1,
   "metadata": {
    "dc": {
     "key": "39"
    },
    "tags": [
     "sample_code"
    ]
   },
   "outputs": [],
   "source": [
    "def P_A_given_lh(ages_of_death, death_distribution_data, study_year = 1990):\n",
    "    \"\"\" The overall probability of being a particular `age_of_death` given that you're left-handed \"\"\"\n",
    "    P_A = death_distribution_data['Total Deaths'][ages_of_death] / np.sum(death_distribution_data['Total Deaths'])\n",
    "    P_left = P_lh(death_distribution_data, study_year) # use P_lh function to get probability of left-handedness overall\n",
    "    P_lh_A = P_lh_given_A(ages_of_death, study_year) # use P_lh_given_A to get probability of left-handedness for a certain age\n",
    "    return P_lh_A*P_A/P_left"
   ]
  },
  {
   "cell_type": "markdown",
   "metadata": {
    "dc": {
     "key": "46"
    },
    "run_control": {
     "frozen": true
    },
    "tags": [
     "context"
    ]
   },
   "source": [
    "## Putting it all together: dying while left-handed (ii)\n",
    "<p>And now for right-handers.</p>"
   ]
  },
  {
   "cell_type": "code",
   "execution_count": 214,
   "metadata": {
    "dc": {
     "key": "46"
    },
    "tags": [
     "sample_code"
    ]
   },
   "outputs": [],
   "source": [
    "def P_A_given_rh(ages_of_death, death_distribution_data, study_year = 1990):\n",
    "    \"\"\" The overall probability of being a particular `age_of_death` given that you're right-handed \"\"\"\n",
    "    P_A = death_distribution_data['Total Deaths'][ages_of_death] / np.sum(death_distribution_data['Total Deaths'])\n",
    "    P_right = 1 - P_lh(death_distribution_data, study_year) # either you're left-handed or right-handed, so P_right = 1 - P_left\n",
    "    P_rh_A = 1 - P_lh_given_A(ages_of_death, study_year) # P_rh_A = 1 - P_lh_A \n",
    "    return P_rh_A*P_A/P_right\n",
    "\n",
    "\n",
    "def make_prob_df(series: \"pandas series\", hand: str) -> \"pandas dataframe\":\n",
    "    df = ( pd.DataFrame(series)\n",
    "          .reset_index()\n",
    "          .assign(Handedness=hand)\n",
    "          .rename({\"Total Deaths\" : \"Probability\", \"index\" : \"Age at Death\"}, axis=1)\n",
    "         \n",
    "         )\n",
    "    return df"
   ]
  },
  {
   "cell_type": "markdown",
   "metadata": {
    "dc": {
     "key": "53"
    },
    "run_control": {
     "frozen": true
    },
    "tags": [
     "context"
    ]
   },
   "source": [
    "## Plotting the distributions of conditional probabilities\n",
    "<p>Now that we have functions to calculate the probability of being age A at death given that you're left-handed or right-handed, let's plot these probabilities for a range of ages of death from 6 to 120. </p>\n",
    "<p>Notice that the left-handed distribution has a bump below age 70: of the pool of deceased people, left-handed people are more likely to be younger. </p>"
   ]
  },
  {
   "cell_type": "code",
   "execution_count": 215,
   "metadata": {
    "dc": {
     "key": "53"
    },
    "tags": [
     "sample_code"
    ]
   },
   "outputs": [],
   "source": [
    "ages = np.arange(6, 115, 1) # make a list of ages of death to plot\n",
    "\n",
    "# calculate the probability of being left- or right-handed for each \n",
    "left_handed_probability = P_A_given_lh(ages, death_distribution_data)\n",
    "right_handed_probability = P_A_given_rh(ages, death_distribution_data)\n",
    "right_left_df = pd.concat( [ make_prob_df(right_handed_probability, 'Right'), make_prob_df(left_handed_probability, 'Left')])"
   ]
  },
  {
   "cell_type": "code",
   "execution_count": 216,
   "metadata": {},
   "outputs": [
    {
     "data": {
      "text/html": [
       "\n",
       "<div id=\"altair-viz-31dfea534abd41cb86c0dd3b3b7937c9\"></div>\n",
       "<script type=\"text/javascript\">\n",
       "  (function(spec, embedOpt){\n",
       "    let outputDiv = document.currentScript.previousElementSibling;\n",
       "    if (outputDiv.id !== \"altair-viz-31dfea534abd41cb86c0dd3b3b7937c9\") {\n",
       "      outputDiv = document.getElementById(\"altair-viz-31dfea534abd41cb86c0dd3b3b7937c9\");\n",
       "    }\n",
       "    const paths = {\n",
       "      \"vega\": \"https://cdn.jsdelivr.net/npm//vega@5?noext\",\n",
       "      \"vega-lib\": \"https://cdn.jsdelivr.net/npm//vega-lib?noext\",\n",
       "      \"vega-lite\": \"https://cdn.jsdelivr.net/npm//vega-lite@4.8.1?noext\",\n",
       "      \"vega-embed\": \"https://cdn.jsdelivr.net/npm//vega-embed@6?noext\",\n",
       "    };\n",
       "\n",
       "    function loadScript(lib) {\n",
       "      return new Promise(function(resolve, reject) {\n",
       "        var s = document.createElement('script');\n",
       "        s.src = paths[lib];\n",
       "        s.async = true;\n",
       "        s.onload = () => resolve(paths[lib]);\n",
       "        s.onerror = () => reject(`Error loading script: ${paths[lib]}`);\n",
       "        document.getElementsByTagName(\"head\")[0].appendChild(s);\n",
       "      });\n",
       "    }\n",
       "\n",
       "    function showError(err) {\n",
       "      outputDiv.innerHTML = `<div class=\"error\" style=\"color:red;\">${err}</div>`;\n",
       "      throw err;\n",
       "    }\n",
       "\n",
       "    function displayChart(vegaEmbed) {\n",
       "      vegaEmbed(outputDiv, spec, embedOpt)\n",
       "        .catch(err => showError(`Javascript Error: ${err.message}<br>This usually means there's a typo in your chart specification. See the javascript console for the full traceback.`));\n",
       "    }\n",
       "\n",
       "    if(typeof define === \"function\" && define.amd) {\n",
       "      requirejs.config({paths});\n",
       "      require([\"vega-embed\"], displayChart, err => showError(`Error loading script: ${err.message}`));\n",
       "    } else if (typeof vegaEmbed === \"function\") {\n",
       "      displayChart(vegaEmbed);\n",
       "    } else {\n",
       "      loadScript(\"vega\")\n",
       "        .then(() => loadScript(\"vega-lite\"))\n",
       "        .then(() => loadScript(\"vega-embed\"))\n",
       "        .catch(showError)\n",
       "        .then(() => displayChart(vegaEmbed));\n",
       "    }\n",
       "  })({\"config\": {\"view\": {\"continuousWidth\": 400, \"continuousHeight\": 300}}, \"data\": {\"name\": \"data-985804733151447a3a4a9c10a5716980\"}, \"mark\": {\"type\": \"area\", \"opacity\": 0.3}, \"encoding\": {\"color\": {\"type\": \"nominal\", \"field\": \"Handedness\"}, \"x\": {\"type\": \"quantitative\", \"field\": \"Age at Death\"}, \"y\": {\"type\": \"quantitative\", \"field\": \"Probability\"}}, \"title\": \"1990 Distribution\", \"$schema\": \"https://vega.github.io/schema/vega-lite/v4.8.1.json\", \"datasets\": {\"data-985804733151447a3a4a9c10a5716980\": [{\"Age at Death\": 6, \"Probability\": 0.00027428326710060525, \"Handedness\": \"Right\"}, {\"Age at Death\": 7, \"Probability\": 0.00026916016010016284, \"Handedness\": \"Right\"}, {\"Age at Death\": 8, \"Probability\": 0.00027270692648508445, \"Handedness\": \"Right\"}, {\"Age at Death\": 9, \"Probability\": 0.0002522144984833152, \"Handedness\": \"Right\"}, {\"Age at Death\": 10, \"Probability\": 0.0002707365007156836, \"Handedness\": \"Right\"}, {\"Age at Death\": 11, \"Probability\": 0.00028019454440880796, \"Handedness\": \"Right\"}, {\"Age at Death\": 12, \"Probability\": 0.000282559055332089, \"Handedness\": \"Right\"}, {\"Age at Death\": 13, \"Probability\": 0.00033379012533651237, \"Handedness\": \"Right\"}, {\"Age at Death\": 14, \"Probability\": 0.0004600703971285007, \"Handedness\": \"Right\"}, {\"Age at Death\": 15, \"Probability\": 0.0005937083244576957, \"Handedness\": \"Right\"}, {\"Age at Death\": 16, \"Probability\": 0.0009267355786116932, \"Handedness\": \"Right\"}, {\"Age at Death\": 17, \"Probability\": 0.0011517384020738033, \"Handedness\": \"Right\"}, {\"Age at Death\": 18, \"Probability\": 0.0013372367579633834, \"Handedness\": \"Right\"}, {\"Age at Death\": 19, \"Probability\": 0.001421606729090487, \"Handedness\": \"Right\"}, {\"Age at Death\": 20, \"Probability\": 0.0013794921310291595, \"Handedness\": \"Right\"}, {\"Age at Death\": 21, \"Probability\": 0.0013953502543666773, \"Handedness\": \"Right\"}, {\"Age at Death\": 22, \"Probability\": 0.0013237023911267067, \"Handedness\": \"Right\"}, {\"Age at Death\": 23, \"Probability\": 0.001290004132653373, \"Handedness\": \"Right\"}, {\"Age at Death\": 24, \"Probability\": 0.0012427752851747616, \"Handedness\": \"Right\"}, {\"Age at Death\": 25, \"Probability\": 0.0012267914666889953, \"Handedness\": \"Right\"}, {\"Age at Death\": 26, \"Probability\": 0.0012867959986679156, \"Handedness\": \"Right\"}, {\"Age at Death\": 27, \"Probability\": 0.001397664437410915, \"Handedness\": \"Right\"}, {\"Age at Death\": 28, \"Probability\": 0.0014863346863116691, \"Handedness\": \"Right\"}, {\"Age at Death\": 29, \"Probability\": 0.001574408543927373, \"Handedness\": \"Right\"}, {\"Age at Death\": 30, \"Probability\": 0.0015942976400030748, \"Handedness\": \"Right\"}, {\"Age at Death\": 31, \"Probability\": 0.0016456822123856788, \"Handedness\": \"Right\"}, {\"Age at Death\": 32, \"Probability\": 0.0018196052996253466, \"Handedness\": \"Right\"}, {\"Age at Death\": 33, \"Probability\": 0.0019631157684834497, \"Handedness\": \"Right\"}, {\"Age at Death\": 34, \"Probability\": 0.0022109338697613996, \"Handedness\": \"Right\"}, {\"Age at Death\": 35, \"Probability\": 0.0024770094598617013, \"Handedness\": \"Right\"}, {\"Age at Death\": 36, \"Probability\": 0.0026310191720306923, \"Handedness\": \"Right\"}, {\"Age at Death\": 37, \"Probability\": 0.00289855690839231, \"Handedness\": \"Right\"}, {\"Age at Death\": 38, \"Probability\": 0.003179007306909822, \"Handedness\": \"Right\"}, {\"Age at Death\": 39, \"Probability\": 0.0033620224083174195, \"Handedness\": \"Right\"}, {\"Age at Death\": 40, \"Probability\": 0.0035609903919663357, \"Handedness\": \"Right\"}, {\"Age at Death\": 41, \"Probability\": 0.003868581957460451, \"Handedness\": \"Right\"}, {\"Age at Death\": 42, \"Probability\": 0.004157046668746762, \"Handedness\": \"Right\"}, {\"Age at Death\": 43, \"Probability\": 0.004444208530854086, \"Handedness\": \"Right\"}, {\"Age at Death\": 44, \"Probability\": 0.004743648137888237, \"Handedness\": \"Right\"}, {\"Age at Death\": 45, \"Probability\": 0.004910897970338029, \"Handedness\": \"Right\"}, {\"Age at Death\": 46, \"Probability\": 0.005222599567551231, \"Handedness\": \"Right\"}, {\"Age at Death\": 47, \"Probability\": 0.005393654399067915, \"Handedness\": \"Right\"}, {\"Age at Death\": 48, \"Probability\": 0.005565103737380448, \"Handedness\": \"Right\"}, {\"Age at Death\": 49, \"Probability\": 0.0059899739217218985, \"Handedness\": \"Right\"}, {\"Age at Death\": 50, \"Probability\": 0.006241843780385105, \"Handedness\": \"Right\"}, {\"Age at Death\": 51, \"Probability\": 0.006741096700834985, \"Handedness\": \"Right\"}, {\"Age at Death\": 52, \"Probability\": 0.007494768813869045, \"Handedness\": \"Right\"}, {\"Age at Death\": 53, \"Probability\": 0.00654665878301677, \"Handedness\": \"Right\"}, {\"Age at Death\": 54, \"Probability\": 0.0070801251701553625, \"Handedness\": \"Right\"}, {\"Age at Death\": 55, \"Probability\": 0.007772699343071791, \"Handedness\": \"Right\"}, {\"Age at Death\": 56, \"Probability\": 0.008704497192100247, \"Handedness\": \"Right\"}, {\"Age at Death\": 57, \"Probability\": 0.008410672625065792, \"Handedness\": \"Right\"}, {\"Age at Death\": 58, \"Probability\": 0.008702083697504023, \"Handedness\": \"Right\"}, {\"Age at Death\": 59, \"Probability\": 0.009143579647061358, \"Handedness\": \"Right\"}, {\"Age at Death\": 60, \"Probability\": 0.009643616630474671, \"Handedness\": \"Right\"}, {\"Age at Death\": 61, \"Probability\": 0.010238730165538803, \"Handedness\": \"Right\"}, {\"Age at Death\": 62, \"Probability\": 0.010801980583886987, \"Handedness\": \"Right\"}, {\"Age at Death\": 63, \"Probability\": 0.011630478793430541, \"Handedness\": \"Right\"}, {\"Age at Death\": 64, \"Probability\": 0.012837773558910607, \"Handedness\": \"Right\"}, {\"Age at Death\": 65, \"Probability\": 0.013245419531089318, \"Handedness\": \"Right\"}, {\"Age at Death\": 66, \"Probability\": 0.014231345542324627, \"Handedness\": \"Right\"}, {\"Age at Death\": 67, \"Probability\": 0.01534800085979385, \"Handedness\": \"Right\"}, {\"Age at Death\": 68, \"Probability\": 0.016799849639648222, \"Handedness\": \"Right\"}, {\"Age at Death\": 69, \"Probability\": 0.01833621527987128, \"Handedness\": \"Right\"}, {\"Age at Death\": 70, \"Probability\": 0.0191609618980887, \"Handedness\": \"Right\"}, {\"Age at Death\": 71, \"Probability\": 0.020985620542439954, \"Handedness\": \"Right\"}, {\"Age at Death\": 72, \"Probability\": 0.022505485538770964, \"Handedness\": \"Right\"}, {\"Age at Death\": 73, \"Probability\": 0.023701965132754157, \"Handedness\": \"Right\"}, {\"Age at Death\": 74, \"Probability\": 0.025417884478082554, \"Handedness\": \"Right\"}, {\"Age at Death\": 75, \"Probability\": 0.026470475236106104, \"Handedness\": \"Right\"}, {\"Age at Death\": 76, \"Probability\": 0.02715190448158066, \"Handedness\": \"Right\"}, {\"Age at Death\": 77, \"Probability\": 0.029054995834438577, \"Handedness\": \"Right\"}, {\"Age at Death\": 78, \"Probability\": 0.030114359762236264, \"Handedness\": \"Right\"}, {\"Age at Death\": 79, \"Probability\": 0.030265074430022132, \"Handedness\": \"Right\"}, {\"Age at Death\": 80, \"Probability\": 0.029548071481244206, \"Handedness\": \"Right\"}, {\"Age at Death\": 81, \"Probability\": 0.030870116401346695, \"Handedness\": \"Right\"}, {\"Age at Death\": 82, \"Probability\": 0.030674198733165448, \"Handedness\": \"Right\"}, {\"Age at Death\": 83, \"Probability\": 0.03115149033518658, \"Handedness\": \"Right\"}, {\"Age at Death\": 84, \"Probability\": 0.030967030970309378, \"Handedness\": \"Right\"}, {\"Age at Death\": 85, \"Probability\": 0.030821812393317122, \"Handedness\": \"Right\"}, {\"Age at Death\": 86, \"Probability\": 0.02984770196748552, \"Handedness\": \"Right\"}, {\"Age at Death\": 87, \"Probability\": 0.028279652579074815, \"Handedness\": \"Right\"}, {\"Age at Death\": 88, \"Probability\": 0.026883622844896215, \"Handedness\": \"Right\"}, {\"Age at Death\": 89, \"Probability\": 0.024798066056042768, \"Handedness\": \"Right\"}, {\"Age at Death\": 90, \"Probability\": 0.02303895118720433, \"Handedness\": \"Right\"}, {\"Age at Death\": 91, \"Probability\": 0.021161912801168373, \"Handedness\": \"Right\"}, {\"Age at Death\": 92, \"Probability\": 0.018378370295238484, \"Handedness\": \"Right\"}, {\"Age at Death\": 93, \"Probability\": 0.015536863958225082, \"Handedness\": \"Right\"}, {\"Age at Death\": 94, \"Probability\": 0.013363220292593112, \"Handedness\": \"Right\"}, {\"Age at Death\": 95, \"Probability\": 0.01101781615691218, \"Handedness\": \"Right\"}, {\"Age at Death\": 96, \"Probability\": 0.008838631830956047, \"Handedness\": \"Right\"}, {\"Age at Death\": 97, \"Probability\": 0.006742983614502635, \"Handedness\": \"Right\"}, {\"Age at Death\": 98, \"Probability\": 0.005154092715389695, \"Handedness\": \"Right\"}, {\"Age at Death\": 99, \"Probability\": 0.003763813178665872, \"Handedness\": \"Right\"}, {\"Age at Death\": 100, \"Probability\": 0.002567882957927968, \"Handedness\": \"Right\"}, {\"Age at Death\": 101, \"Probability\": 0.0018233034512889369, \"Handedness\": \"Right\"}, {\"Age at Death\": 102, \"Probability\": 0.0012065853367459046, \"Handedness\": \"Right\"}, {\"Age at Death\": 103, \"Probability\": 0.0007705779896985502, \"Handedness\": \"Right\"}, {\"Age at Death\": 104, \"Probability\": 0.0005152814101468734, \"Handedness\": \"Right\"}, {\"Age at Death\": 105, \"Probability\": 0.000319653480239996, \"Handedness\": \"Right\"}, {\"Age at Death\": 106, \"Probability\": 0.00018369419997791767, \"Handedness\": \"Right\"}, {\"Age at Death\": 107, \"Probability\": 0.00011209182040415857, \"Handedness\": \"Right\"}, {\"Age at Death\": 108, \"Probability\": 5.796383108351926e-05, \"Handedness\": \"Right\"}, {\"Age at Death\": 109, \"Probability\": 3.580118978687954e-05, \"Handedness\": \"Right\"}, {\"Age at Death\": 110, \"Probability\": 1.704818561279978e-05, \"Handedness\": \"Right\"}, {\"Age at Death\": 111, \"Probability\": 8.950297446719886e-06, \"Handedness\": \"Right\"}, {\"Age at Death\": 112, \"Probability\": 5.114455683839935e-06, \"Handedness\": \"Right\"}, {\"Age at Death\": 113, \"Probability\": 3.835841762879951e-06, \"Handedness\": \"Right\"}, {\"Age at Death\": 114, \"Probability\": 2.5572278419199675e-06, \"Handedness\": \"Right\"}, {\"Age at Death\": 6, \"Probability\": 0.0004906398575633026, \"Handedness\": \"Left\"}, {\"Age at Death\": 7, \"Probability\": 0.00048147560735019475, \"Handedness\": \"Left\"}, {\"Age at Death\": 8, \"Probability\": 0.0004878200882669616, \"Handedness\": \"Left\"}, {\"Age at Death\": 9, \"Probability\": 0.00045116308741453105, \"Handedness\": \"Left\"}, {\"Age at Death\": 10, \"Probability\": 0.00048429537664653556, \"Handedness\": \"Left\"}, {\"Age at Death\": 11, \"Probability\": 0.0005012139924245805, \"Handedness\": \"Left\"}, {\"Age at Death\": 12, \"Probability\": 0.0005054436463690918, \"Handedness\": \"Left\"}, {\"Age at Death\": 13, \"Probability\": 0.0005970861485001683, \"Handedness\": \"Left\"}, {\"Age at Death\": 14, \"Probability\": 0.000777532098476975, \"Handedness\": \"Left\"}, {\"Age at Death\": 15, \"Probability\": 0.0010752322337310583, \"Handedness\": \"Left\"}, {\"Age at Death\": 16, \"Probability\": 0.001670608045194234, \"Handedness\": \"Left\"}, {\"Age at Death\": 17, \"Probability\": 0.001960278207492096, \"Handedness\": \"Left\"}, {\"Age at Death\": 18, \"Probability\": 0.0024498485284217583, \"Handedness\": \"Left\"}, {\"Age at Death\": 19, \"Probability\": 0.0025410455703671632, \"Handedness\": \"Left\"}, {\"Age at Death\": 20, \"Probability\": 0.002470378189812454, \"Handedness\": \"Left\"}, {\"Age at Death\": 21, \"Probability\": 0.0024812957298243577, \"Handedness\": \"Left\"}, {\"Age at Death\": 22, \"Probability\": 0.0024436446418388685, \"Handedness\": \"Left\"}, {\"Age at Death\": 23, \"Probability\": 0.0023861118623055393, \"Handedness\": \"Left\"}, {\"Age at Death\": 24, \"Probability\": 0.0023546409142249335, \"Handedness\": \"Left\"}, {\"Age at Death\": 25, \"Probability\": 0.0023236757406427688, \"Handedness\": \"Left\"}, {\"Age at Death\": 26, \"Probability\": 0.0023649755887958216, \"Handedness\": \"Left\"}, {\"Age at Death\": 27, \"Probability\": 0.002513048563913717, \"Handedness\": \"Left\"}, {\"Age at Death\": 28, \"Probability\": 0.00260702648345588, \"Handedness\": \"Left\"}, {\"Age at Death\": 29, \"Probability\": 0.0027242424371456933, \"Handedness\": \"Left\"}, {\"Age at Death\": 30, \"Probability\": 0.002633437175921966, \"Handedness\": \"Left\"}, {\"Age at Death\": 31, \"Probability\": 0.00298712644966993, \"Handedness\": \"Left\"}, {\"Age at Death\": 32, \"Probability\": 0.003156431383678769, \"Handedness\": \"Left\"}, {\"Age at Death\": 33, \"Probability\": 0.0034230467807060314, \"Handedness\": \"Left\"}, {\"Age at Death\": 34, \"Probability\": 0.003953346963703852, \"Handedness\": \"Left\"}, {\"Age at Death\": 35, \"Probability\": 0.004374523170944136, \"Handedness\": \"Left\"}, {\"Age at Death\": 36, \"Probability\": 0.004656462092537967, \"Handedness\": \"Left\"}, {\"Age at Death\": 37, \"Probability\": 0.0049202613233335175, \"Handedness\": \"Left\"}, {\"Age at Death\": 38, \"Probability\": 0.00554767912682332, \"Handedness\": \"Left\"}, {\"Age at Death\": 39, \"Probability\": 0.005926728047012477, \"Handedness\": \"Left\"}, {\"Age at Death\": 40, \"Probability\": 0.006369420123153163, \"Handedness\": \"Left\"}, {\"Age at Death\": 41, \"Probability\": 0.006868372953212997, \"Handedness\": \"Left\"}, {\"Age at Death\": 42, \"Probability\": 0.007029041074501005, \"Handedness\": \"Left\"}, {\"Age at Death\": 43, \"Probability\": 0.007598293931430048, \"Handedness\": \"Left\"}, {\"Age at Death\": 44, \"Probability\": 0.007876338674561225, \"Handedness\": \"Left\"}, {\"Age at Death\": 45, \"Probability\": 0.008491081790152068, \"Handedness\": \"Left\"}, {\"Age at Death\": 46, \"Probability\": 0.008553496884491075, \"Handedness\": \"Left\"}, {\"Age at Death\": 47, \"Probability\": 0.00891303304143474, \"Handedness\": \"Left\"}, {\"Age at Death\": 48, \"Probability\": 0.009510213412707682, \"Handedness\": \"Left\"}, {\"Age at Death\": 49, \"Probability\": 0.00973646570007261, \"Handedness\": \"Left\"}, {\"Age at Death\": 50, \"Probability\": 0.010057094298191628, \"Handedness\": \"Left\"}, {\"Age at Death\": 51, \"Probability\": 0.010789332370946314, \"Handedness\": \"Left\"}, {\"Age at Death\": 52, \"Probability\": 0.011618059653103467, \"Handedness\": \"Left\"}, {\"Age at Death\": 53, \"Probability\": 0.009479691550837617, \"Handedness\": \"Left\"}, {\"Age at Death\": 54, \"Probability\": 0.009977933636058162, \"Handedness\": \"Left\"}, {\"Age at Death\": 55, \"Probability\": 0.010821427162218449, \"Handedness\": \"Left\"}, {\"Age at Death\": 56, \"Probability\": 0.011516449154322405, \"Handedness\": \"Left\"}, {\"Age at Death\": 57, \"Probability\": 0.011268651951842776, \"Handedness\": \"Left\"}, {\"Age at Death\": 58, \"Probability\": 0.011507416133174398, \"Handedness\": \"Left\"}, {\"Age at Death\": 59, \"Probability\": 0.012193202713359852, \"Handedness\": \"Left\"}, {\"Age at Death\": 60, \"Probability\": 0.012129905055151387, \"Handedness\": \"Left\"}, {\"Age at Death\": 61, \"Probability\": 0.013500784650035232, \"Handedness\": \"Left\"}, {\"Age at Death\": 62, \"Probability\": 0.01302064032508735, \"Handedness\": \"Left\"}, {\"Age at Death\": 63, \"Probability\": 0.013822348513461, \"Handedness\": \"Left\"}, {\"Age at Death\": 64, \"Probability\": 0.014648950839901571, \"Handedness\": \"Left\"}, {\"Age at Death\": 65, \"Probability\": 0.014708186144614093, \"Handedness\": \"Left\"}, {\"Age at Death\": 66, \"Probability\": 0.01534197263472772, \"Handedness\": \"Left\"}, {\"Age at Death\": 67, \"Probability\": 0.014950957532192673, \"Handedness\": \"Left\"}, {\"Age at Death\": 68, \"Probability\": 0.01621738200055229, \"Handedness\": \"Left\"}, {\"Age at Death\": 69, \"Probability\": 0.018289476989889576, \"Handedness\": \"Left\"}, {\"Age at Death\": 70, \"Probability\": 0.019098043392684567, \"Handedness\": \"Left\"}, {\"Age at Death\": 71, \"Probability\": 0.02001349686875085, \"Handedness\": \"Left\"}, {\"Age at Death\": 72, \"Probability\": 0.021161453260207116, \"Handedness\": \"Left\"}, {\"Age at Death\": 73, \"Probability\": 0.02253653413993988, \"Handedness\": \"Left\"}, {\"Age at Death\": 74, \"Probability\": 0.021711565676913642, \"Handedness\": \"Left\"}, {\"Age at Death\": 75, \"Probability\": 0.023950009974246952, \"Handedness\": \"Left\"}, {\"Age at Death\": 76, \"Probability\": 0.024575829326877144, \"Handedness\": \"Left\"}, {\"Age at Death\": 77, \"Probability\": 0.02465136268017154, \"Handedness\": \"Left\"}, {\"Age at Death\": 78, \"Probability\": 0.023497534004627934, \"Handedness\": \"Left\"}, {\"Age at Death\": 79, \"Probability\": 0.026424991944046215, \"Handedness\": \"Left\"}, {\"Age at Death\": 80, \"Probability\": 0.02789641110783271, \"Handedness\": \"Left\"}, {\"Age at Death\": 81, \"Probability\": 0.021318161575114753, \"Handedness\": \"Left\"}, {\"Age at Death\": 82, \"Probability\": 0.025384266042352575, \"Handedness\": \"Left\"}, {\"Age at Death\": 83, \"Probability\": 0.020243690934409194, \"Handedness\": \"Left\"}, {\"Age at Death\": 84, \"Probability\": 0.02555768659757149, \"Handedness\": \"Left\"}, {\"Age at Death\": 85, \"Probability\": 0.023297330316109206, \"Handedness\": \"Left\"}, {\"Age at Death\": 86, \"Probability\": 0.023077886962036682, \"Handedness\": \"Left\"}, {\"Age at Death\": 87, \"Probability\": 0.021710559070721863, \"Handedness\": \"Left\"}, {\"Age at Death\": 88, \"Probability\": 0.02089594279851078, \"Handedness\": \"Left\"}, {\"Age at Death\": 89, \"Probability\": 0.022831200979630723, \"Handedness\": \"Left\"}, {\"Age at Death\": 90, \"Probability\": 0.014007480912320874, \"Handedness\": \"Left\"}, {\"Age at Death\": 91, \"Probability\": 0.016061991606937394, \"Handedness\": \"Left\"}, {\"Age at Death\": 92, \"Probability\": 0.01394926971889848, \"Handedness\": \"Left\"}, {\"Age at Death\": 93, \"Probability\": 0.011792553009733659, \"Handedness\": \"Left\"}, {\"Age at Death\": 94, \"Probability\": 0.010142747217512184, \"Handedness\": \"Left\"}, {\"Age at Death\": 95, \"Probability\": 0.00836257441857203, \"Handedness\": \"Left\"}, {\"Age at Death\": 96, \"Probability\": 0.0067085632390370496, \"Handedness\": \"Left\"}, {\"Age at Death\": 97, \"Probability\": 0.0051179563605364626, \"Handedness\": \"Left\"}, {\"Age at Death\": 98, \"Probability\": 0.003911980675555746, \"Handedness\": \"Left\"}, {\"Age at Death\": 99, \"Probability\": 0.002856751951197617, \"Handedness\": \"Left\"}, {\"Age at Death\": 100, \"Probability\": 0.0019490352741439979, \"Handedness\": \"Left\"}, {\"Age at Death\": 101, \"Probability\": 0.0013838959174751904, \"Handedness\": \"Left\"}, {\"Age at Death\": 102, \"Probability\": 0.0009158039603488228, \"Handedness\": \"Left\"}, {\"Age at Death\": 103, \"Probability\": 0.0005848723279091035, \"Handedness\": \"Left\"}, {\"Age at Death\": 104, \"Probability\": 0.00039110102015603204, \"Handedness\": \"Left\"}, {\"Age at Death\": 105, \"Probability\": 0.0002426184988560993, \"Handedness\": \"Left\"}, {\"Age at Death\": 106, \"Probability\": 0.00013942476400930507, \"Handedness\": \"Left\"}, {\"Age at Death\": 107, \"Probability\": 8.507822026553883e-05, \"Handedness\": \"Left\"}, {\"Age at Death\": 108, \"Probability\": 4.3994821125906005e-05, \"Handedness\": \"Left\"}, {\"Age at Death\": 109, \"Probability\": 2.717327187188312e-05, \"Handedness\": \"Left\"}, {\"Age at Death\": 110, \"Probability\": 1.2939653272325298e-05, \"Handedness\": \"Left\"}, {\"Age at Death\": 111, \"Probability\": 6.79331796797078e-06, \"Handedness\": \"Left\"}, {\"Age at Death\": 112, \"Probability\": 3.881895981697589e-06, \"Handedness\": \"Left\"}, {\"Age at Death\": 113, \"Probability\": 2.9114219862731915e-06, \"Handedness\": \"Left\"}, {\"Age at Death\": 114, \"Probability\": 1.9409479908487945e-06, \"Handedness\": \"Left\"}]}}, {\"mode\": \"vega-lite\"});\n",
       "</script>"
      ],
      "text/plain": [
       "alt.Chart(...)"
      ]
     },
     "execution_count": 216,
     "metadata": {},
     "output_type": "execute_result"
    }
   ],
   "source": [
    "#collapse\n",
    "\n",
    "death_prob_90 = ( alt.Chart(right_left_df, title='1990 Distribution')\n",
    "    .mark_area(opacity=0.3)\n",
    "    .encode(x='Age at Death:Q', y='Probability:Q', color='Handedness:N') ) \n",
    "\n",
    "death_prob_90"
   ]
  },
  {
   "cell_type": "markdown",
   "metadata": {
    "dc": {
     "key": "60"
    },
    "run_control": {
     "frozen": true
    },
    "tags": [
     "context"
    ]
   },
   "source": [
    "## Moment of truth: age of left and right-handers at death\n",
    "<p>Finally, let's compare our results with the original study that found that left-handed people were nine years younger at death on average. We can do this by calculating the mean of these probability distributions in the same way we calculated P(LH) earlier, weighting the probability distribution by age and summing over the result.</p>\n",
    "<p>$$\\text{Average age of left-handed people at death} = \\sum_A A P(A | LH)$$</p>\n",
    "<p>$$\\text{Average age of right-handed people at death} = \\sum_A A P(A | RH)$$</p>"
   ]
  },
  {
   "cell_type": "code",
   "execution_count": 217,
   "metadata": {},
   "outputs": [
    {
     "name": "stdout",
     "output_type": "stream",
     "text": [
      "Handedness\n",
      "Left     67.25\n",
      "Right    72.79\n",
      "Name: Average Age of Death (Years), dtype: float64\n",
      "\n",
      "\n",
      "The difference in average age of death between left and right handed people are: 5.55 years.\n"
     ]
    }
   ],
   "source": [
    "right_left_df['Average Age of Death (Years)'] = right_left_df['Age at Death'] * right_left_df['Probability']\n",
    "handed_probs = right_left_df.groupby('Handedness')['Average Age of Death (Years)'].sum()\n",
    "print(handed_probs.round(2))\n",
    "print(f\"\\n\\nThe difference in average age of death between left and right handed people are: {handed_probs.diff().values[-1]:.2f} years.\")"
   ]
  },
  {
   "cell_type": "code",
   "execution_count": 218,
   "metadata": {
    "dc": {
     "key": "60"
    },
    "tags": [
     "sample_code"
    ]
   },
   "outputs": [
    {
     "name": "stdout",
     "output_type": "stream",
     "text": [
      "The difference in average ages is -5.5 years.\n"
     ]
    }
   ],
   "source": [
    "print(\"The difference in average ages is \" + str(round(average_lh_age - average_rh_age, 1)) + \" years.\")"
   ]
  },
  {
   "cell_type": "markdown",
   "metadata": {
    "dc": {
     "key": "67"
    },
    "run_control": {
     "frozen": true
    },
    "tags": [
     "context"
    ]
   },
   "source": [
    "## Final comments\n",
    "<p>We got a pretty big age gap between left-handed and right-handed people purely as a result of the changing rates of left-handedness in the population, which is good news for left-handers: you probably won't die young because of your sinisterness. The reported rates of left-handedness have increased from just 3% in the early 1900s to about 11% today, which means that older people are much more likely to be reported as right-handed than left-handed, and so looking at a sample of recently deceased people will have more old right-handers.</p>\n",
    "<p>Our number is still less than the 9-year gap measured in the study. It's possible that some of the approximations we made are the cause: </p>\n",
    "<ol>\n",
    "<li>We used death distribution data from almost ten years after the study (1999 instead of 1991), and we used death data from the entire United States instead of California alone (which was the original study). </li>\n",
    "<li>We extrapolated the left-handedness survey results to older and younger age groups, but it's possible our extrapolation wasn't close enough to the true rates for those ages. </li>\n",
    "</ol>"
   ]
  },
  {
   "cell_type": "code",
   "execution_count": 219,
   "metadata": {},
   "outputs": [],
   "source": [
    "left_handed_probability_2018 = P_A_given_lh(ages, death_distribution_data, 2018)\n",
    "right_handed_probability_2018 = P_A_given_rh(ages, death_distribution_data, 2018)\n",
    "right_left_2018_df = pd.concat( [ make_prob_df(right_handed_probability_2018, 'Right'), make_prob_df(left_handed_probability_2018, 'Left')])"
   ]
  },
  {
   "cell_type": "code",
   "execution_count": 220,
   "metadata": {},
   "outputs": [
    {
     "data": {
      "text/html": [
       "\n",
       "<div id=\"altair-viz-43c6067b47994a40815fc941696cbf81\"></div>\n",
       "<script type=\"text/javascript\">\n",
       "  (function(spec, embedOpt){\n",
       "    let outputDiv = document.currentScript.previousElementSibling;\n",
       "    if (outputDiv.id !== \"altair-viz-43c6067b47994a40815fc941696cbf81\") {\n",
       "      outputDiv = document.getElementById(\"altair-viz-43c6067b47994a40815fc941696cbf81\");\n",
       "    }\n",
       "    const paths = {\n",
       "      \"vega\": \"https://cdn.jsdelivr.net/npm//vega@5?noext\",\n",
       "      \"vega-lib\": \"https://cdn.jsdelivr.net/npm//vega-lib?noext\",\n",
       "      \"vega-lite\": \"https://cdn.jsdelivr.net/npm//vega-lite@4.8.1?noext\",\n",
       "      \"vega-embed\": \"https://cdn.jsdelivr.net/npm//vega-embed@6?noext\",\n",
       "    };\n",
       "\n",
       "    function loadScript(lib) {\n",
       "      return new Promise(function(resolve, reject) {\n",
       "        var s = document.createElement('script');\n",
       "        s.src = paths[lib];\n",
       "        s.async = true;\n",
       "        s.onload = () => resolve(paths[lib]);\n",
       "        s.onerror = () => reject(`Error loading script: ${paths[lib]}`);\n",
       "        document.getElementsByTagName(\"head\")[0].appendChild(s);\n",
       "      });\n",
       "    }\n",
       "\n",
       "    function showError(err) {\n",
       "      outputDiv.innerHTML = `<div class=\"error\" style=\"color:red;\">${err}</div>`;\n",
       "      throw err;\n",
       "    }\n",
       "\n",
       "    function displayChart(vegaEmbed) {\n",
       "      vegaEmbed(outputDiv, spec, embedOpt)\n",
       "        .catch(err => showError(`Javascript Error: ${err.message}<br>This usually means there's a typo in your chart specification. See the javascript console for the full traceback.`));\n",
       "    }\n",
       "\n",
       "    if(typeof define === \"function\" && define.amd) {\n",
       "      requirejs.config({paths});\n",
       "      require([\"vega-embed\"], displayChart, err => showError(`Error loading script: ${err.message}`));\n",
       "    } else if (typeof vegaEmbed === \"function\") {\n",
       "      displayChart(vegaEmbed);\n",
       "    } else {\n",
       "      loadScript(\"vega\")\n",
       "        .then(() => loadScript(\"vega-lite\"))\n",
       "        .then(() => loadScript(\"vega-embed\"))\n",
       "        .catch(showError)\n",
       "        .then(() => displayChart(vegaEmbed));\n",
       "    }\n",
       "  })({\"config\": {\"view\": {\"continuousWidth\": 400, \"continuousHeight\": 300}}, \"hconcat\": [{\"data\": {\"name\": \"data-3c83b7986222480c94ea72dc7d9374f6\"}, \"mark\": {\"type\": \"area\", \"opacity\": 0.3}, \"encoding\": {\"color\": {\"type\": \"nominal\", \"field\": \"Handedness\"}, \"x\": {\"type\": \"quantitative\", \"field\": \"Age at Death\"}, \"y\": {\"type\": \"quantitative\", \"field\": \"Probability\"}}, \"title\": \"1990 Distribution\"}, {\"data\": {\"name\": \"data-b6e6b90f7c15279fa036decc79fc0c29\"}, \"mark\": {\"type\": \"area\", \"opacity\": 0.3}, \"encoding\": {\"color\": {\"type\": \"nominal\", \"field\": \"Handedness\"}, \"x\": {\"type\": \"quantitative\", \"field\": \"Age at Death\"}, \"y\": {\"type\": \"quantitative\", \"field\": \"Probability\"}}, \"title\": \"2018 Distribution\"}], \"$schema\": \"https://vega.github.io/schema/vega-lite/v4.8.1.json\", \"datasets\": {\"data-3c83b7986222480c94ea72dc7d9374f6\": [{\"Age at Death\": 6, \"Probability\": 0.00027428326710060525, \"Handedness\": \"Right\", \"Average Age of Death (Years)\": 0.0016456996026036315}, {\"Age at Death\": 7, \"Probability\": 0.00026916016010016284, \"Handedness\": \"Right\", \"Average Age of Death (Years)\": 0.00188412112070114}, {\"Age at Death\": 8, \"Probability\": 0.00027270692648508445, \"Handedness\": \"Right\", \"Average Age of Death (Years)\": 0.0021816554118806756}, {\"Age at Death\": 9, \"Probability\": 0.0002522144984833152, \"Handedness\": \"Right\", \"Average Age of Death (Years)\": 0.0022699304863498366}, {\"Age at Death\": 10, \"Probability\": 0.0002707365007156836, \"Handedness\": \"Right\", \"Average Age of Death (Years)\": 0.0027073650071568357}, {\"Age at Death\": 11, \"Probability\": 0.00028019454440880796, \"Handedness\": \"Right\", \"Average Age of Death (Years)\": 0.0030821399884968874}, {\"Age at Death\": 12, \"Probability\": 0.000282559055332089, \"Handedness\": \"Right\", \"Average Age of Death (Years)\": 0.003390708663985068}, {\"Age at Death\": 13, \"Probability\": 0.00033379012533651237, \"Handedness\": \"Right\", \"Average Age of Death (Years)\": 0.0043392716293746605}, {\"Age at Death\": 14, \"Probability\": 0.0004600703971285007, \"Handedness\": \"Right\", \"Average Age of Death (Years)\": 0.00644098555979901}, {\"Age at Death\": 15, \"Probability\": 0.0005937083244576957, \"Handedness\": \"Right\", \"Average Age of Death (Years)\": 0.008905624866865436}, {\"Age at Death\": 16, \"Probability\": 0.0009267355786116932, \"Handedness\": \"Right\", \"Average Age of Death (Years)\": 0.014827769257787091}, {\"Age at Death\": 17, \"Probability\": 0.0011517384020738033, \"Handedness\": \"Right\", \"Average Age of Death (Years)\": 0.019579552835254657}, {\"Age at Death\": 18, \"Probability\": 0.0013372367579633834, \"Handedness\": \"Right\", \"Average Age of Death (Years)\": 0.0240702616433409}, {\"Age at Death\": 19, \"Probability\": 0.001421606729090487, \"Handedness\": \"Right\", \"Average Age of Death (Years)\": 0.027010527852719252}, {\"Age at Death\": 20, \"Probability\": 0.0013794921310291595, \"Handedness\": \"Right\", \"Average Age of Death (Years)\": 0.02758984262058319}, {\"Age at Death\": 21, \"Probability\": 0.0013953502543666773, \"Handedness\": \"Right\", \"Average Age of Death (Years)\": 0.029302355341700222}, {\"Age at Death\": 22, \"Probability\": 0.0013237023911267067, \"Handedness\": \"Right\", \"Average Age of Death (Years)\": 0.02912145260478755}, {\"Age at Death\": 23, \"Probability\": 0.001290004132653373, \"Handedness\": \"Right\", \"Average Age of Death (Years)\": 0.029670095051027582}, {\"Age at Death\": 24, \"Probability\": 0.0012427752851747616, \"Handedness\": \"Right\", \"Average Age of Death (Years)\": 0.02982660684419428}, {\"Age at Death\": 25, \"Probability\": 0.0012267914666889953, \"Handedness\": \"Right\", \"Average Age of Death (Years)\": 0.03066978666722488}, {\"Age at Death\": 26, \"Probability\": 0.0012867959986679156, \"Handedness\": \"Right\", \"Average Age of Death (Years)\": 0.0334566959653658}, {\"Age at Death\": 27, \"Probability\": 0.001397664437410915, \"Handedness\": \"Right\", \"Average Age of Death (Years)\": 0.037736939810094704}, {\"Age at Death\": 28, \"Probability\": 0.0014863346863116691, \"Handedness\": \"Right\", \"Average Age of Death (Years)\": 0.041617371216726734}, {\"Age at Death\": 29, \"Probability\": 0.001574408543927373, \"Handedness\": \"Right\", \"Average Age of Death (Years)\": 0.04565784777389382}, {\"Age at Death\": 30, \"Probability\": 0.0015942976400030748, \"Handedness\": \"Right\", \"Average Age of Death (Years)\": 0.04782892920009224}, {\"Age at Death\": 31, \"Probability\": 0.0016456822123856788, \"Handedness\": \"Right\", \"Average Age of Death (Years)\": 0.05101614858395604}, {\"Age at Death\": 32, \"Probability\": 0.0018196052996253466, \"Handedness\": \"Right\", \"Average Age of Death (Years)\": 0.05822736958801109}, {\"Age at Death\": 33, \"Probability\": 0.0019631157684834497, \"Handedness\": \"Right\", \"Average Age of Death (Years)\": 0.06478282035995384}, {\"Age at Death\": 34, \"Probability\": 0.0022109338697613996, \"Handedness\": \"Right\", \"Average Age of Death (Years)\": 0.07517175157188759}, {\"Age at Death\": 35, \"Probability\": 0.0024770094598617013, \"Handedness\": \"Right\", \"Average Age of Death (Years)\": 0.08669533109515955}, {\"Age at Death\": 36, \"Probability\": 0.0026310191720306923, \"Handedness\": \"Right\", \"Average Age of Death (Years)\": 0.09471669019310493}, {\"Age at Death\": 37, \"Probability\": 0.00289855690839231, \"Handedness\": \"Right\", \"Average Age of Death (Years)\": 0.10724660561051548}, {\"Age at Death\": 38, \"Probability\": 0.003179007306909822, \"Handedness\": \"Right\", \"Average Age of Death (Years)\": 0.12080227766257323}, {\"Age at Death\": 39, \"Probability\": 0.0033620224083174195, \"Handedness\": \"Right\", \"Average Age of Death (Years)\": 0.13111887392437935}, {\"Age at Death\": 40, \"Probability\": 0.0035609903919663357, \"Handedness\": \"Right\", \"Average Age of Death (Years)\": 0.14243961567865343}, {\"Age at Death\": 41, \"Probability\": 0.003868581957460451, \"Handedness\": \"Right\", \"Average Age of Death (Years)\": 0.1586118602558785}, {\"Age at Death\": 42, \"Probability\": 0.004157046668746762, \"Handedness\": \"Right\", \"Average Age of Death (Years)\": 0.174595960087364}, {\"Age at Death\": 43, \"Probability\": 0.004444208530854086, \"Handedness\": \"Right\", \"Average Age of Death (Years)\": 0.1911009668267257}, {\"Age at Death\": 44, \"Probability\": 0.004743648137888237, \"Handedness\": \"Right\", \"Average Age of Death (Years)\": 0.20872051806708242}, {\"Age at Death\": 45, \"Probability\": 0.004910897970338029, \"Handedness\": \"Right\", \"Average Age of Death (Years)\": 0.2209904086652113}, {\"Age at Death\": 46, \"Probability\": 0.005222599567551231, \"Handedness\": \"Right\", \"Average Age of Death (Years)\": 0.24023958010735663}, {\"Age at Death\": 47, \"Probability\": 0.005393654399067915, \"Handedness\": \"Right\", \"Average Age of Death (Years)\": 0.253501756756192}, {\"Age at Death\": 48, \"Probability\": 0.005565103737380448, \"Handedness\": \"Right\", \"Average Age of Death (Years)\": 0.2671249793942615}, {\"Age at Death\": 49, \"Probability\": 0.0059899739217218985, \"Handedness\": \"Right\", \"Average Age of Death (Years)\": 0.293508722164373}, {\"Age at Death\": 50, \"Probability\": 0.006241843780385105, \"Handedness\": \"Right\", \"Average Age of Death (Years)\": 0.31209218901925523}, {\"Age at Death\": 51, \"Probability\": 0.006741096700834985, \"Handedness\": \"Right\", \"Average Age of Death (Years)\": 0.3437959317425842}, {\"Age at Death\": 52, \"Probability\": 0.007494768813869045, \"Handedness\": \"Right\", \"Average Age of Death (Years)\": 0.3897279783211903}, {\"Age at Death\": 53, \"Probability\": 0.00654665878301677, \"Handedness\": \"Right\", \"Average Age of Death (Years)\": 0.3469729154998888}, {\"Age at Death\": 54, \"Probability\": 0.0070801251701553625, \"Handedness\": \"Right\", \"Average Age of Death (Years)\": 0.3823267591883896}, {\"Age at Death\": 55, \"Probability\": 0.007772699343071791, \"Handedness\": \"Right\", \"Average Age of Death (Years)\": 0.42749846386894846}, {\"Age at Death\": 56, \"Probability\": 0.008704497192100247, \"Handedness\": \"Right\", \"Average Age of Death (Years)\": 0.4874518427576139}, {\"Age at Death\": 57, \"Probability\": 0.008410672625065792, \"Handedness\": \"Right\", \"Average Age of Death (Years)\": 0.4794083396287501}, {\"Age at Death\": 58, \"Probability\": 0.008702083697504023, \"Handedness\": \"Right\", \"Average Age of Death (Years)\": 0.5047208544552333}, {\"Age at Death\": 59, \"Probability\": 0.009143579647061358, \"Handedness\": \"Right\", \"Average Age of Death (Years)\": 0.5394711991766201}, {\"Age at Death\": 60, \"Probability\": 0.009643616630474671, \"Handedness\": \"Right\", \"Average Age of Death (Years)\": 0.5786169978284803}, {\"Age at Death\": 61, \"Probability\": 0.010238730165538803, \"Handedness\": \"Right\", \"Average Age of Death (Years)\": 0.6245625400978669}, {\"Age at Death\": 62, \"Probability\": 0.010801980583886987, \"Handedness\": \"Right\", \"Average Age of Death (Years)\": 0.6697227962009932}, {\"Age at Death\": 63, \"Probability\": 0.011630478793430541, \"Handedness\": \"Right\", \"Average Age of Death (Years)\": 0.7327201639861242}, {\"Age at Death\": 64, \"Probability\": 0.012837773558910607, \"Handedness\": \"Right\", \"Average Age of Death (Years)\": 0.8216175077702789}, {\"Age at Death\": 65, \"Probability\": 0.013245419531089318, \"Handedness\": \"Right\", \"Average Age of Death (Years)\": 0.8609522695208056}, {\"Age at Death\": 66, \"Probability\": 0.014231345542324627, \"Handedness\": \"Right\", \"Average Age of Death (Years)\": 0.9392688057934254}, {\"Age at Death\": 67, \"Probability\": 0.01534800085979385, \"Handedness\": \"Right\", \"Average Age of Death (Years)\": 1.0283160576061878}, {\"Age at Death\": 68, \"Probability\": 0.016799849639648222, \"Handedness\": \"Right\", \"Average Age of Death (Years)\": 1.142389775496079}, {\"Age at Death\": 69, \"Probability\": 0.01833621527987128, \"Handedness\": \"Right\", \"Average Age of Death (Years)\": 1.2651988543111181}, {\"Age at Death\": 70, \"Probability\": 0.0191609618980887, \"Handedness\": \"Right\", \"Average Age of Death (Years)\": 1.341267332866209}, {\"Age at Death\": 71, \"Probability\": 0.020985620542439954, \"Handedness\": \"Right\", \"Average Age of Death (Years)\": 1.4899790585132366}, {\"Age at Death\": 72, \"Probability\": 0.022505485538770964, \"Handedness\": \"Right\", \"Average Age of Death (Years)\": 1.6203949587915094}, {\"Age at Death\": 73, \"Probability\": 0.023701965132754157, \"Handedness\": \"Right\", \"Average Age of Death (Years)\": 1.7302434546910535}, {\"Age at Death\": 74, \"Probability\": 0.025417884478082554, \"Handedness\": \"Right\", \"Average Age of Death (Years)\": 1.880923451378109}, {\"Age at Death\": 75, \"Probability\": 0.026470475236106104, \"Handedness\": \"Right\", \"Average Age of Death (Years)\": 1.9852856427079577}, {\"Age at Death\": 76, \"Probability\": 0.02715190448158066, \"Handedness\": \"Right\", \"Average Age of Death (Years)\": 2.06354474060013}, {\"Age at Death\": 77, \"Probability\": 0.029054995834438577, \"Handedness\": \"Right\", \"Average Age of Death (Years)\": 2.2372346792517703}, {\"Age at Death\": 78, \"Probability\": 0.030114359762236264, \"Handedness\": \"Right\", \"Average Age of Death (Years)\": 2.3489200614544288}, {\"Age at Death\": 79, \"Probability\": 0.030265074430022132, \"Handedness\": \"Right\", \"Average Age of Death (Years)\": 2.3909408799717484}, {\"Age at Death\": 80, \"Probability\": 0.029548071481244206, \"Handedness\": \"Right\", \"Average Age of Death (Years)\": 2.3638457184995367}, {\"Age at Death\": 81, \"Probability\": 0.030870116401346695, \"Handedness\": \"Right\", \"Average Age of Death (Years)\": 2.5004794285090823}, {\"Age at Death\": 82, \"Probability\": 0.030674198733165448, \"Handedness\": \"Right\", \"Average Age of Death (Years)\": 2.515284296119567}, {\"Age at Death\": 83, \"Probability\": 0.03115149033518658, \"Handedness\": \"Right\", \"Average Age of Death (Years)\": 2.585573697820486}, {\"Age at Death\": 84, \"Probability\": 0.030967030970309378, \"Handedness\": \"Right\", \"Average Age of Death (Years)\": 2.601230601505988}, {\"Age at Death\": 85, \"Probability\": 0.030821812393317122, \"Handedness\": \"Right\", \"Average Age of Death (Years)\": 2.6198540534319554}, {\"Age at Death\": 86, \"Probability\": 0.02984770196748552, \"Handedness\": \"Right\", \"Average Age of Death (Years)\": 2.5669023692037545}, {\"Age at Death\": 87, \"Probability\": 0.028279652579074815, \"Handedness\": \"Right\", \"Average Age of Death (Years)\": 2.4603297743795087}, {\"Age at Death\": 88, \"Probability\": 0.026883622844896215, \"Handedness\": \"Right\", \"Average Age of Death (Years)\": 2.365758810350867}, {\"Age at Death\": 89, \"Probability\": 0.024798066056042768, \"Handedness\": \"Right\", \"Average Age of Death (Years)\": 2.207027878987806}, {\"Age at Death\": 90, \"Probability\": 0.02303895118720433, \"Handedness\": \"Right\", \"Average Age of Death (Years)\": 2.0735056068483897}, {\"Age at Death\": 91, \"Probability\": 0.021161912801168373, \"Handedness\": \"Right\", \"Average Age of Death (Years)\": 1.925734064906322}, {\"Age at Death\": 92, \"Probability\": 0.018378370295238484, \"Handedness\": \"Right\", \"Average Age of Death (Years)\": 1.6908100671619406}, {\"Age at Death\": 93, \"Probability\": 0.015536863958225082, \"Handedness\": \"Right\", \"Average Age of Death (Years)\": 1.4449283481149326}, {\"Age at Death\": 94, \"Probability\": 0.013363220292593112, \"Handedness\": \"Right\", \"Average Age of Death (Years)\": 1.2561427075037526}, {\"Age at Death\": 95, \"Probability\": 0.01101781615691218, \"Handedness\": \"Right\", \"Average Age of Death (Years)\": 1.046692534906657}, {\"Age at Death\": 96, \"Probability\": 0.008838631830956047, \"Handedness\": \"Right\", \"Average Age of Death (Years)\": 0.8485086557717805}, {\"Age at Death\": 97, \"Probability\": 0.006742983614502635, \"Handedness\": \"Right\", \"Average Age of Death (Years)\": 0.6540694106067556}, {\"Age at Death\": 98, \"Probability\": 0.005154092715389695, \"Handedness\": \"Right\", \"Average Age of Death (Years)\": 0.5051010861081902}, {\"Age at Death\": 99, \"Probability\": 0.003763813178665872, \"Handedness\": \"Right\", \"Average Age of Death (Years)\": 0.3726175046879213}, {\"Age at Death\": 100, \"Probability\": 0.002567882957927968, \"Handedness\": \"Right\", \"Average Age of Death (Years)\": 0.2567882957927968}, {\"Age at Death\": 101, \"Probability\": 0.0018233034512889369, \"Handedness\": \"Right\", \"Average Age of Death (Years)\": 0.18415364858018263}, {\"Age at Death\": 102, \"Probability\": 0.0012065853367459046, \"Handedness\": \"Right\", \"Average Age of Death (Years)\": 0.12307170434808228}, {\"Age at Death\": 103, \"Probability\": 0.0007705779896985502, \"Handedness\": \"Right\", \"Average Age of Death (Years)\": 0.07936953293895066}, {\"Age at Death\": 104, \"Probability\": 0.0005152814101468734, \"Handedness\": \"Right\", \"Average Age of Death (Years)\": 0.05358926665527484}, {\"Age at Death\": 105, \"Probability\": 0.000319653480239996, \"Handedness\": \"Right\", \"Average Age of Death (Years)\": 0.033563615425199575}, {\"Age at Death\": 106, \"Probability\": 0.00018369419997791767, \"Handedness\": \"Right\", \"Average Age of Death (Years)\": 0.019471585197659274}, {\"Age at Death\": 107, \"Probability\": 0.00011209182040415857, \"Handedness\": \"Right\", \"Average Age of Death (Years)\": 0.011993824783244967}, {\"Age at Death\": 108, \"Probability\": 5.796383108351926e-05, \"Handedness\": \"Right\", \"Average Age of Death (Years)\": 0.00626009375702008}, {\"Age at Death\": 109, \"Probability\": 3.580118978687954e-05, \"Handedness\": \"Right\", \"Average Age of Death (Years)\": 0.00390232968676987}, {\"Age at Death\": 110, \"Probability\": 1.704818561279978e-05, \"Handedness\": \"Right\", \"Average Age of Death (Years)\": 0.001875300417407976}, {\"Age at Death\": 111, \"Probability\": 8.950297446719886e-06, \"Handedness\": \"Right\", \"Average Age of Death (Years)\": 0.0009934830165859072}, {\"Age at Death\": 112, \"Probability\": 5.114455683839935e-06, \"Handedness\": \"Right\", \"Average Age of Death (Years)\": 0.0005728190365900727}, {\"Age at Death\": 113, \"Probability\": 3.835841762879951e-06, \"Handedness\": \"Right\", \"Average Age of Death (Years)\": 0.0004334501192054344}, {\"Age at Death\": 114, \"Probability\": 2.5572278419199675e-06, \"Handedness\": \"Right\", \"Average Age of Death (Years)\": 0.0002915239739788763}, {\"Age at Death\": 6, \"Probability\": 0.0004906398575633026, \"Handedness\": \"Left\", \"Average Age of Death (Years)\": 0.002943839145379815}, {\"Age at Death\": 7, \"Probability\": 0.00048147560735019475, \"Handedness\": \"Left\", \"Average Age of Death (Years)\": 0.0033703292514513632}, {\"Age at Death\": 8, \"Probability\": 0.0004878200882669616, \"Handedness\": \"Left\", \"Average Age of Death (Years)\": 0.0039025607061356927}, {\"Age at Death\": 9, \"Probability\": 0.00045116308741453105, \"Handedness\": \"Left\", \"Average Age of Death (Years)\": 0.004060467786730779}, {\"Age at Death\": 10, \"Probability\": 0.00048429537664653556, \"Handedness\": \"Left\", \"Average Age of Death (Years)\": 0.004842953766465355}, {\"Age at Death\": 11, \"Probability\": 0.0005012139924245805, \"Handedness\": \"Left\", \"Average Age of Death (Years)\": 0.005513353916670385}, {\"Age at Death\": 12, \"Probability\": 0.0005054436463690918, \"Handedness\": \"Left\", \"Average Age of Death (Years)\": 0.006065323756429101}, {\"Age at Death\": 13, \"Probability\": 0.0005970861485001683, \"Handedness\": \"Left\", \"Average Age of Death (Years)\": 0.007762119930502187}, {\"Age at Death\": 14, \"Probability\": 0.000777532098476975, \"Handedness\": \"Left\", \"Average Age of Death (Years)\": 0.01088544937867765}, {\"Age at Death\": 15, \"Probability\": 0.0010752322337310583, \"Handedness\": \"Left\", \"Average Age of Death (Years)\": 0.016128483505965876}, {\"Age at Death\": 16, \"Probability\": 0.001670608045194234, \"Handedness\": \"Left\", \"Average Age of Death (Years)\": 0.026729728723107745}, {\"Age at Death\": 17, \"Probability\": 0.001960278207492096, \"Handedness\": \"Left\", \"Average Age of Death (Years)\": 0.033324729527365635}, {\"Age at Death\": 18, \"Probability\": 0.0024498485284217583, \"Handedness\": \"Left\", \"Average Age of Death (Years)\": 0.04409727351159165}, {\"Age at Death\": 19, \"Probability\": 0.0025410455703671632, \"Handedness\": \"Left\", \"Average Age of Death (Years)\": 0.048279865836976105}, {\"Age at Death\": 20, \"Probability\": 0.002470378189812454, \"Handedness\": \"Left\", \"Average Age of Death (Years)\": 0.04940756379624908}, {\"Age at Death\": 21, \"Probability\": 0.0024812957298243577, \"Handedness\": \"Left\", \"Average Age of Death (Years)\": 0.052107210326311514}, {\"Age at Death\": 22, \"Probability\": 0.0024436446418388685, \"Handedness\": \"Left\", \"Average Age of Death (Years)\": 0.05376018212045511}, {\"Age at Death\": 23, \"Probability\": 0.0023861118623055393, \"Handedness\": \"Left\", \"Average Age of Death (Years)\": 0.0548805728330274}, {\"Age at Death\": 24, \"Probability\": 0.0023546409142249335, \"Handedness\": \"Left\", \"Average Age of Death (Years)\": 0.0565113819413984}, {\"Age at Death\": 25, \"Probability\": 0.0023236757406427688, \"Handedness\": \"Left\", \"Average Age of Death (Years)\": 0.05809189351606922}, {\"Age at Death\": 26, \"Probability\": 0.0023649755887958216, \"Handedness\": \"Left\", \"Average Age of Death (Years)\": 0.06148936530869136}, {\"Age at Death\": 27, \"Probability\": 0.002513048563913717, \"Handedness\": \"Left\", \"Average Age of Death (Years)\": 0.06785231122567036}, {\"Age at Death\": 28, \"Probability\": 0.00260702648345588, \"Handedness\": \"Left\", \"Average Age of Death (Years)\": 0.07299674153676464}, {\"Age at Death\": 29, \"Probability\": 0.0027242424371456933, \"Handedness\": \"Left\", \"Average Age of Death (Years)\": 0.07900303067722511}, {\"Age at Death\": 30, \"Probability\": 0.002633437175921966, \"Handedness\": \"Left\", \"Average Age of Death (Years)\": 0.07900311527765898}, {\"Age at Death\": 31, \"Probability\": 0.00298712644966993, \"Handedness\": \"Left\", \"Average Age of Death (Years)\": 0.09260091993976782}, {\"Age at Death\": 32, \"Probability\": 0.003156431383678769, \"Handedness\": \"Left\", \"Average Age of Death (Years)\": 0.1010058042777206}, {\"Age at Death\": 33, \"Probability\": 0.0034230467807060314, \"Handedness\": \"Left\", \"Average Age of Death (Years)\": 0.11296054376329903}, {\"Age at Death\": 34, \"Probability\": 0.003953346963703852, \"Handedness\": \"Left\", \"Average Age of Death (Years)\": 0.13441379676593096}, {\"Age at Death\": 35, \"Probability\": 0.004374523170944136, \"Handedness\": \"Left\", \"Average Age of Death (Years)\": 0.15310831098304478}, {\"Age at Death\": 36, \"Probability\": 0.004656462092537967, \"Handedness\": \"Left\", \"Average Age of Death (Years)\": 0.1676326353313668}, {\"Age at Death\": 37, \"Probability\": 0.0049202613233335175, \"Handedness\": \"Left\", \"Average Age of Death (Years)\": 0.18204966896334016}, {\"Age at Death\": 38, \"Probability\": 0.00554767912682332, \"Handedness\": \"Left\", \"Average Age of Death (Years)\": 0.21081180681928616}, {\"Age at Death\": 39, \"Probability\": 0.005926728047012477, \"Handedness\": \"Left\", \"Average Age of Death (Years)\": 0.23114239383348661}, {\"Age at Death\": 40, \"Probability\": 0.006369420123153163, \"Handedness\": \"Left\", \"Average Age of Death (Years)\": 0.25477680492612653}, {\"Age at Death\": 41, \"Probability\": 0.006868372953212997, \"Handedness\": \"Left\", \"Average Age of Death (Years)\": 0.2816032910817329}, {\"Age at Death\": 42, \"Probability\": 0.007029041074501005, \"Handedness\": \"Left\", \"Average Age of Death (Years)\": 0.2952197251290422}, {\"Age at Death\": 43, \"Probability\": 0.007598293931430048, \"Handedness\": \"Left\", \"Average Age of Death (Years)\": 0.3267266390514921}, {\"Age at Death\": 44, \"Probability\": 0.007876338674561225, \"Handedness\": \"Left\", \"Average Age of Death (Years)\": 0.34655890168069386}, {\"Age at Death\": 45, \"Probability\": 0.008491081790152068, \"Handedness\": \"Left\", \"Average Age of Death (Years)\": 0.38209868055684304}, {\"Age at Death\": 46, \"Probability\": 0.008553496884491075, \"Handedness\": \"Left\", \"Average Age of Death (Years)\": 0.3934608566865894}, {\"Age at Death\": 47, \"Probability\": 0.00891303304143474, \"Handedness\": \"Left\", \"Average Age of Death (Years)\": 0.4189125529474328}, {\"Age at Death\": 48, \"Probability\": 0.009510213412707682, \"Handedness\": \"Left\", \"Average Age of Death (Years)\": 0.4564902438099687}, {\"Age at Death\": 49, \"Probability\": 0.00973646570007261, \"Handedness\": \"Left\", \"Average Age of Death (Years)\": 0.4770868193035579}, {\"Age at Death\": 50, \"Probability\": 0.010057094298191628, \"Handedness\": \"Left\", \"Average Age of Death (Years)\": 0.5028547149095814}, {\"Age at Death\": 51, \"Probability\": 0.010789332370946314, \"Handedness\": \"Left\", \"Average Age of Death (Years)\": 0.5502559509182621}, {\"Age at Death\": 52, \"Probability\": 0.011618059653103467, \"Handedness\": \"Left\", \"Average Age of Death (Years)\": 0.6041391019613803}, {\"Age at Death\": 53, \"Probability\": 0.009479691550837617, \"Handedness\": \"Left\", \"Average Age of Death (Years)\": 0.5024236521943937}, {\"Age at Death\": 54, \"Probability\": 0.009977933636058162, \"Handedness\": \"Left\", \"Average Age of Death (Years)\": 0.5388084163471407}, {\"Age at Death\": 55, \"Probability\": 0.010821427162218449, \"Handedness\": \"Left\", \"Average Age of Death (Years)\": 0.5951784939220147}, {\"Age at Death\": 56, \"Probability\": 0.011516449154322405, \"Handedness\": \"Left\", \"Average Age of Death (Years)\": 0.6449211526420547}, {\"Age at Death\": 57, \"Probability\": 0.011268651951842776, \"Handedness\": \"Left\", \"Average Age of Death (Years)\": 0.6423131612550382}, {\"Age at Death\": 58, \"Probability\": 0.011507416133174398, \"Handedness\": \"Left\", \"Average Age of Death (Years)\": 0.6674301357241151}, {\"Age at Death\": 59, \"Probability\": 0.012193202713359852, \"Handedness\": \"Left\", \"Average Age of Death (Years)\": 0.7193989600882312}, {\"Age at Death\": 60, \"Probability\": 0.012129905055151387, \"Handedness\": \"Left\", \"Average Age of Death (Years)\": 0.7277943033090832}, {\"Age at Death\": 61, \"Probability\": 0.013500784650035232, \"Handedness\": \"Left\", \"Average Age of Death (Years)\": 0.8235478636521492}, {\"Age at Death\": 62, \"Probability\": 0.01302064032508735, \"Handedness\": \"Left\", \"Average Age of Death (Years)\": 0.8072797001554156}, {\"Age at Death\": 63, \"Probability\": 0.013822348513461, \"Handedness\": \"Left\", \"Average Age of Death (Years)\": 0.870807956348043}, {\"Age at Death\": 64, \"Probability\": 0.014648950839901571, \"Handedness\": \"Left\", \"Average Age of Death (Years)\": 0.9375328537537005}, {\"Age at Death\": 65, \"Probability\": 0.014708186144614093, \"Handedness\": \"Left\", \"Average Age of Death (Years)\": 0.9560320993999161}, {\"Age at Death\": 66, \"Probability\": 0.01534197263472772, \"Handedness\": \"Left\", \"Average Age of Death (Years)\": 1.0125701938920295}, {\"Age at Death\": 67, \"Probability\": 0.014950957532192673, \"Handedness\": \"Left\", \"Average Age of Death (Years)\": 1.001714154656909}, {\"Age at Death\": 68, \"Probability\": 0.01621738200055229, \"Handedness\": \"Left\", \"Average Age of Death (Years)\": 1.1027819760375557}, {\"Age at Death\": 69, \"Probability\": 0.018289476989889576, \"Handedness\": \"Left\", \"Average Age of Death (Years)\": 1.2619739123023808}, {\"Age at Death\": 70, \"Probability\": 0.019098043392684567, \"Handedness\": \"Left\", \"Average Age of Death (Years)\": 1.3368630374879198}, {\"Age at Death\": 71, \"Probability\": 0.02001349686875085, \"Handedness\": \"Left\", \"Average Age of Death (Years)\": 1.4209582776813103}, {\"Age at Death\": 72, \"Probability\": 0.021161453260207116, \"Handedness\": \"Left\", \"Average Age of Death (Years)\": 1.5236246347349125}, {\"Age at Death\": 73, \"Probability\": 0.02253653413993988, \"Handedness\": \"Left\", \"Average Age of Death (Years)\": 1.6451669922156111}, {\"Age at Death\": 74, \"Probability\": 0.021711565676913642, \"Handedness\": \"Left\", \"Average Age of Death (Years)\": 1.6066558600916094}, {\"Age at Death\": 75, \"Probability\": 0.023950009974246952, \"Handedness\": \"Left\", \"Average Age of Death (Years)\": 1.7962507480685215}, {\"Age at Death\": 76, \"Probability\": 0.024575829326877144, \"Handedness\": \"Left\", \"Average Age of Death (Years)\": 1.867763028842663}, {\"Age at Death\": 77, \"Probability\": 0.02465136268017154, \"Handedness\": \"Left\", \"Average Age of Death (Years)\": 1.8981549263732087}, {\"Age at Death\": 78, \"Probability\": 0.023497534004627934, \"Handedness\": \"Left\", \"Average Age of Death (Years)\": 1.8328076523609789}, {\"Age at Death\": 79, \"Probability\": 0.026424991944046215, \"Handedness\": \"Left\", \"Average Age of Death (Years)\": 2.087574363579651}, {\"Age at Death\": 80, \"Probability\": 0.02789641110783271, \"Handedness\": \"Left\", \"Average Age of Death (Years)\": 2.2317128886266167}, {\"Age at Death\": 81, \"Probability\": 0.021318161575114753, \"Handedness\": \"Left\", \"Average Age of Death (Years)\": 1.726771087584295}, {\"Age at Death\": 82, \"Probability\": 0.025384266042352575, \"Handedness\": \"Left\", \"Average Age of Death (Years)\": 2.081509815472911}, {\"Age at Death\": 83, \"Probability\": 0.020243690934409194, \"Handedness\": \"Left\", \"Average Age of Death (Years)\": 1.6802263475559631}, {\"Age at Death\": 84, \"Probability\": 0.02555768659757149, \"Handedness\": \"Left\", \"Average Age of Death (Years)\": 2.146845674196005}, {\"Age at Death\": 85, \"Probability\": 0.023297330316109206, \"Handedness\": \"Left\", \"Average Age of Death (Years)\": 1.9802730768692824}, {\"Age at Death\": 86, \"Probability\": 0.023077886962036682, \"Handedness\": \"Left\", \"Average Age of Death (Years)\": 1.9846982787351546}, {\"Age at Death\": 87, \"Probability\": 0.021710559070721863, \"Handedness\": \"Left\", \"Average Age of Death (Years)\": 1.8888186391528021}, {\"Age at Death\": 88, \"Probability\": 0.02089594279851078, \"Handedness\": \"Left\", \"Average Age of Death (Years)\": 1.8388429662689485}, {\"Age at Death\": 89, \"Probability\": 0.022831200979630723, \"Handedness\": \"Left\", \"Average Age of Death (Years)\": 2.031976887187134}, {\"Age at Death\": 90, \"Probability\": 0.014007480912320874, \"Handedness\": \"Left\", \"Average Age of Death (Years)\": 1.2606732821088786}, {\"Age at Death\": 91, \"Probability\": 0.016061991606937394, \"Handedness\": \"Left\", \"Average Age of Death (Years)\": 1.461641236231303}, {\"Age at Death\": 92, \"Probability\": 0.01394926971889848, \"Handedness\": \"Left\", \"Average Age of Death (Years)\": 1.2833328141386602}, {\"Age at Death\": 93, \"Probability\": 0.011792553009733659, \"Handedness\": \"Left\", \"Average Age of Death (Years)\": 1.0967074299052304}, {\"Age at Death\": 94, \"Probability\": 0.010142747217512184, \"Handedness\": \"Left\", \"Average Age of Death (Years)\": 0.9534182384461453}, {\"Age at Death\": 95, \"Probability\": 0.00836257441857203, \"Handedness\": \"Left\", \"Average Age of Death (Years)\": 0.7944445697643429}, {\"Age at Death\": 96, \"Probability\": 0.0067085632390370496, \"Handedness\": \"Left\", \"Average Age of Death (Years)\": 0.6440220709475568}, {\"Age at Death\": 97, \"Probability\": 0.0051179563605364626, \"Handedness\": \"Left\", \"Average Age of Death (Years)\": 0.49644176697203685}, {\"Age at Death\": 98, \"Probability\": 0.003911980675555746, \"Handedness\": \"Left\", \"Average Age of Death (Years)\": 0.3833741062044631}, {\"Age at Death\": 99, \"Probability\": 0.002856751951197617, \"Handedness\": \"Left\", \"Average Age of Death (Years)\": 0.2828184431685641}, {\"Age at Death\": 100, \"Probability\": 0.0019490352741439979, \"Handedness\": \"Left\", \"Average Age of Death (Years)\": 0.19490352741439979}, {\"Age at Death\": 101, \"Probability\": 0.0013838959174751904, \"Handedness\": \"Left\", \"Average Age of Death (Years)\": 0.13977348766499423}, {\"Age at Death\": 102, \"Probability\": 0.0009158039603488228, \"Handedness\": \"Left\", \"Average Age of Death (Years)\": 0.09341200395557993}, {\"Age at Death\": 103, \"Probability\": 0.0005848723279091035, \"Handedness\": \"Left\", \"Average Age of Death (Years)\": 0.06024184977463766}, {\"Age at Death\": 104, \"Probability\": 0.00039110102015603204, \"Handedness\": \"Left\", \"Average Age of Death (Years)\": 0.04067450609622733}, {\"Age at Death\": 105, \"Probability\": 0.0002426184988560993, \"Handedness\": \"Left\", \"Average Age of Death (Years)\": 0.02547494237989043}, {\"Age at Death\": 106, \"Probability\": 0.00013942476400930507, \"Handedness\": \"Left\", \"Average Age of Death (Years)\": 0.014779024984986337}, {\"Age at Death\": 107, \"Probability\": 8.507822026553883e-05, \"Handedness\": \"Left\", \"Average Age of Death (Years)\": 0.009103369568412654}, {\"Age at Death\": 108, \"Probability\": 4.3994821125906005e-05, \"Handedness\": \"Left\", \"Average Age of Death (Years)\": 0.0047514406815978485}, {\"Age at Death\": 109, \"Probability\": 2.717327187188312e-05, \"Handedness\": \"Left\", \"Average Age of Death (Years)\": 0.00296188663403526}, {\"Age at Death\": 110, \"Probability\": 1.2939653272325298e-05, \"Handedness\": \"Left\", \"Average Age of Death (Years)\": 0.0014233618599557827}, {\"Age at Death\": 111, \"Probability\": 6.79331796797078e-06, \"Handedness\": \"Left\", \"Average Age of Death (Years)\": 0.0007540582944447565}, {\"Age at Death\": 112, \"Probability\": 3.881895981697589e-06, \"Handedness\": \"Left\", \"Average Age of Death (Years)\": 0.00043477234995012995}, {\"Age at Death\": 113, \"Probability\": 2.9114219862731915e-06, \"Handedness\": \"Left\", \"Average Age of Death (Years)\": 0.00032899068444887066}, {\"Age at Death\": 114, \"Probability\": 1.9409479908487945e-06, \"Handedness\": \"Left\", \"Average Age of Death (Years)\": 0.00022126807095676257}], \"data-b6e6b90f7c15279fa036decc79fc0c29\": [{\"Age at Death\": 6, \"Probability\": 0.0002856904487355545, \"Handedness\": \"Right\"}, {\"Age at Death\": 7, \"Probability\": 0.0002803542765608961, \"Handedness\": \"Right\"}, {\"Age at Death\": 8, \"Probability\": 0.0002840485496048903, \"Handedness\": \"Right\"}, {\"Age at Death\": 9, \"Probability\": 0.000262703860906257, \"Handedness\": \"Right\"}, {\"Age at Death\": 10, \"Probability\": 0.0002819961756915602, \"Handedness\": \"Right\"}, {\"Age at Death\": 11, \"Probability\": 0.00029184757047554487, \"Handedness\": \"Right\"}, {\"Age at Death\": 12, \"Probability\": 0.00029431041917154106, \"Handedness\": \"Right\"}, {\"Age at Death\": 13, \"Probability\": 0.00034767214091812443, \"Handedness\": \"Right\"}, {\"Age at Death\": 14, \"Probability\": 0.0004757402731099248, \"Handedness\": \"Right\"}, {\"Age at Death\": 15, \"Probability\": 0.0006194064470430341, \"Handedness\": \"Right\"}, {\"Age at Death\": 16, \"Probability\": 0.0009662576383958265, \"Handedness\": \"Right\"}, {\"Age at Death\": 17, \"Probability\": 0.0011920187688621413, \"Handedness\": \"Right\"}, {\"Age at Death\": 18, \"Probability\": 0.0013972561601951544, \"Handedness\": \"Right\"}, {\"Age at Death\": 19, \"Probability\": 0.001480582541076358, \"Handedness\": \"Right\"}, {\"Age at Death\": 20, \"Probability\": 0.001437072214113759, \"Handedness\": \"Right\"}, {\"Age at Death\": 21, \"Probability\": 0.0014522597810724019, \"Handedness\": \"Right\"}, {\"Age at Death\": 22, \"Probability\": 0.0013845314419325076, \"Handedness\": \"Right\"}, {\"Age at Death\": 23, \"Probability\": 0.0013496410854058952, \"Handedness\": \"Right\"}, {\"Age at Death\": 24, \"Probability\": 0.0013044888593126323, \"Handedness\": \"Right\"}, {\"Age at Death\": 25, \"Probability\": 0.0012876593932233252, \"Handedness\": \"Right\"}, {\"Age at Death\": 26, \"Probability\": 0.001345125862796569, \"Handedness\": \"Right\"}, {\"Age at Death\": 27, \"Probability\": 0.001456775003681728, \"Handedness\": \"Right\"}, {\"Age at Death\": 28, \"Probability\": 0.001544206132389592, \"Handedness\": \"Right\"}, {\"Age at Death\": 29, \"Probability\": 0.0016328686854454536, \"Handedness\": \"Right\"}, {\"Age at Death\": 30, \"Probability\": 0.001643951504577436, \"Handedness\": \"Right\"}, {\"Age at Death\": 31, \"Probability\": 0.0017174264906746552, \"Handedness\": \"Right\"}, {\"Age at Death\": 32, \"Probability\": 0.001887773525481056, \"Handedness\": \"Right\"}, {\"Age at Death\": 33, \"Probability\": 0.0020380072959368216, \"Handedness\": \"Right\"}, {\"Age at Death\": 34, \"Probability\": 0.002302763530756409, \"Handedness\": \"Right\"}, {\"Age at Death\": 35, \"Probability\": 0.0025757292612293165, \"Handedness\": \"Right\"}, {\"Age at Death\": 36, \"Probability\": 0.0027366353760343988, \"Handedness\": \"Right\"}, {\"Age at Death\": 37, \"Probability\": 0.0029989287621579896, \"Handedness\": \"Right\"}, {\"Age at Death\": 38, \"Probability\": 0.0033006277274175194, \"Handedness\": \"Right\"}, {\"Age at Death\": 39, \"Probability\": 0.003495192774401216, \"Handedness\": \"Right\"}, {\"Age at Death\": 40, \"Probability\": 0.003709050136170216, \"Handedness\": \"Right\"}, {\"Age at Death\": 41, \"Probability\": 0.004025526193605722, \"Handedness\": \"Right\"}, {\"Age at Death\": 42, \"Probability\": 0.004330204078271891, \"Handedness\": \"Right\"}, {\"Age at Death\": 43, \"Probability\": 0.004594765959215085, \"Handedness\": \"Right\"}, {\"Age at Death\": 44, \"Probability\": 0.00488953717778917, \"Handedness\": \"Right\"}, {\"Age at Death\": 45, \"Probability\": 0.005125313383397062, \"Handedness\": \"Right\"}, {\"Age at Death\": 46, \"Probability\": 0.005362722512310509, \"Handedness\": \"Right\"}, {\"Age at Death\": 47, \"Probability\": 0.005562487278047511, \"Handedness\": \"Right\"}, {\"Age at Death\": 48, \"Probability\": 0.0057618201504900475, \"Handedness\": \"Right\"}, {\"Age at Death\": 49, \"Probability\": 0.00616927194509543, \"Handedness\": \"Right\"}, {\"Age at Death\": 50, \"Probability\": 0.006390174934660947, \"Handedness\": \"Right\"}, {\"Age at Death\": 51, \"Probability\": 0.00689399211966681, \"Handedness\": \"Right\"}, {\"Age at Death\": 52, \"Probability\": 0.007611170782003434, \"Handedness\": \"Right\"}, {\"Age at Death\": 53, \"Probability\": 0.006598026108214081, \"Handedness\": \"Right\"}, {\"Age at Death\": 54, \"Probability\": 0.007144107615847866, \"Handedness\": \"Right\"}, {\"Age at Death\": 55, \"Probability\": 0.0078556979982758, \"Handedness\": \"Right\"}, {\"Age at Death\": 56, \"Probability\": 0.008779845552845887, \"Handedness\": \"Right\"}, {\"Age at Death\": 57, \"Probability\": 0.008509025012414975, \"Handedness\": \"Right\"}, {\"Age at Death\": 58, \"Probability\": 0.008843280939180593, \"Handedness\": \"Right\"}, {\"Age at Death\": 59, \"Probability\": 0.009188838475461087, \"Handedness\": \"Right\"}, {\"Age at Death\": 60, \"Probability\": 0.009692761088687406, \"Handedness\": \"Right\"}, {\"Age at Death\": 61, \"Probability\": 0.010331700205581417, \"Handedness\": \"Right\"}, {\"Age at Death\": 62, \"Probability\": 0.01077142419868937, \"Handedness\": \"Right\"}, {\"Age at Death\": 63, \"Probability\": 0.01160127680183848, \"Handedness\": \"Right\"}, {\"Age at Death\": 64, \"Probability\": 0.012755565921260103, \"Handedness\": \"Right\"}, {\"Age at Death\": 65, \"Probability\": 0.013199597132850677, \"Handedness\": \"Right\"}, {\"Age at Death\": 66, \"Probability\": 0.014097286228689679, \"Handedness\": \"Right\"}, {\"Age at Death\": 67, \"Probability\": 0.015061843615657338, \"Handedness\": \"Right\"}, {\"Age at Death\": 68, \"Probability\": 0.016444200859556904, \"Handedness\": \"Right\"}, {\"Age at Death\": 69, \"Probability\": 0.01801039083344201, \"Handedness\": \"Right\"}, {\"Age at Death\": 70, \"Probability\": 0.018936692551248857, \"Handedness\": \"Right\"}, {\"Age at Death\": 71, \"Probability\": 0.02064199615389967, \"Handedness\": \"Right\"}, {\"Age at Death\": 72, \"Probability\": 0.02219441450426394, \"Handedness\": \"Right\"}, {\"Age at Death\": 73, \"Probability\": 0.023275586906505972, \"Handedness\": \"Right\"}, {\"Age at Death\": 74, \"Probability\": 0.02493983026344423, \"Handedness\": \"Right\"}, {\"Age at Death\": 75, \"Probability\": 0.02604748591944536, \"Handedness\": \"Right\"}, {\"Age at Death\": 76, \"Probability\": 0.02660781715032341, \"Handedness\": \"Right\"}, {\"Age at Death\": 77, \"Probability\": 0.02852167879443438, \"Handedness\": \"Right\"}, {\"Age at Death\": 78, \"Probability\": 0.02943425098153049, \"Handedness\": \"Right\"}, {\"Age at Death\": 79, \"Probability\": 0.029822235751426045, \"Handedness\": \"Right\"}, {\"Age at Death\": 80, \"Probability\": 0.029387684178523884, \"Handedness\": \"Right\"}, {\"Age at Death\": 81, \"Probability\": 0.03032608621935666, \"Handedness\": \"Right\"}, {\"Age at Death\": 82, \"Probability\": 0.030550870039442166, \"Handedness\": \"Right\"}, {\"Age at Death\": 83, \"Probability\": 0.03063156289754743, \"Handedness\": \"Right\"}, {\"Age at Death\": 84, \"Probability\": 0.03103861029362026, \"Handedness\": \"Right\"}, {\"Age at Death\": 85, \"Probability\": 0.030685181244136082, \"Handedness\": \"Right\"}, {\"Age at Death\": 86, \"Probability\": 0.02979541909079503, \"Handedness\": \"Right\"}, {\"Age at Death\": 87, \"Probability\": 0.028194068245632926, \"Handedness\": \"Right\"}, {\"Age at Death\": 88, \"Probability\": 0.026977155408029963, \"Handedness\": \"Right\"}, {\"Age at Death\": 89, \"Probability\": 0.025050446816462908, \"Handedness\": \"Right\"}, {\"Age at Death\": 90, \"Probability\": 0.022901216208069237, \"Handedness\": \"Right\"}, {\"Age at Death\": 91, \"Probability\": 0.021317452361341284, \"Handedness\": \"Right\"}, {\"Age at Death\": 92, \"Probability\": 0.01858083281094028, \"Handedness\": \"Right\"}, {\"Age at Death\": 93, \"Probability\": 0.0157450922596342, \"Handedness\": \"Right\"}, {\"Age at Death\": 94, \"Probability\": 0.013576182849446101, \"Handedness\": \"Right\"}, {\"Age at Death\": 95, \"Probability\": 0.011283914700769603, \"Handedness\": \"Right\"}, {\"Age at Death\": 96, \"Probability\": 0.009058303887873523, \"Handedness\": \"Right\"}, {\"Age at Death\": 97, \"Probability\": 0.006893327842881518, \"Handedness\": \"Right\"}, {\"Age at Death\": 98, \"Probability\": 0.005269311137485037, \"Handedness\": \"Right\"}, {\"Age at Death\": 99, \"Probability\": 0.003860860961599788, \"Handedness\": \"Right\"}, {\"Age at Death\": 100, \"Probability\": 0.0026368477848396654, \"Handedness\": \"Right\"}, {\"Age at Death\": 101, \"Probability\": 0.0018707314092597793, \"Handedness\": \"Right\"}, {\"Age at Death\": 102, \"Probability\": 0.001247369604075334, \"Handedness\": \"Right\"}, {\"Age at Death\": 103, \"Probability\": 0.000793470869909485, \"Handedness\": \"Right\"}, {\"Age at Death\": 104, \"Probability\": 0.0005305755775774975, \"Handedness\": \"Right\"}, {\"Age at Death\": 105, \"Probability\": 0.00033060745508078194, \"Handedness\": \"Right\"}, {\"Age at Death\": 106, \"Probability\": 0.00019101228399956926, \"Handedness\": \"Right\"}, {\"Age at Death\": 107, \"Probability\": 0.0001157085855970887, \"Handedness\": \"Right\"}, {\"Age at Death\": 108, \"Probability\": 5.9502799160708e-05, \"Handedness\": \"Right\"}, {\"Age at Death\": 109, \"Probability\": 3.749318316405147e-05, \"Handedness\": \"Right\"}, {\"Age at Death\": 110, \"Probability\": 1.7661397517358886e-05, \"Handedness\": \"Right\"}, {\"Age at Death\": 111, \"Probability\": 9.403774250190206e-06, \"Handedness\": \"Right\"}, {\"Age at Death\": 112, \"Probability\": 5.29934755351049e-06, \"Handedness\": \"Right\"}, {\"Age at Death\": 113, \"Probability\": 3.996361799587986e-06, \"Handedness\": \"Right\"}, {\"Age at Death\": 114, \"Probability\": 2.660593894690334e-06, \"Handedness\": \"Right\"}, {\"Age at Death\": 6, \"Probability\": 0.000332819861696342, \"Handedness\": \"Left\"}, {\"Age at Death\": 7, \"Probability\": 0.0003266033987623585, \"Handedness\": \"Left\"}, {\"Age at Death\": 8, \"Probability\": 0.0003309071038705008, \"Handedness\": \"Left\"}, {\"Age at Death\": 9, \"Probability\": 0.0003060412521345673, \"Handedness\": \"Left\"}, {\"Age at Death\": 10, \"Probability\": 0.00032851615658819954, \"Handedness\": \"Left\"}, {\"Age at Death\": 11, \"Probability\": 0.00033999270354324586, \"Handedness\": \"Left\"}, {\"Age at Death\": 12, \"Probability\": 0.0003428618402820074, \"Handedness\": \"Left\"}, {\"Age at Death\": 13, \"Probability\": 0.0004050264696218413, \"Handedness\": \"Left\"}, {\"Age at Death\": 14, \"Probability\": 0.0005542215800374429, \"Handedness\": \"Left\"}, {\"Age at Death\": 15, \"Probability\": 0.0007215878897985343, \"Handedness\": \"Left\"}, {\"Age at Death\": 16, \"Probability\": 0.0011256579805074554, \"Handedness\": \"Left\"}, {\"Age at Death\": 17, \"Probability\": 0.0013886621815605992, \"Handedness\": \"Left\"}, {\"Age at Death\": 18, \"Probability\": 0.0016277569097907297, \"Handedness\": \"Left\"}, {\"Age at Death\": 19, \"Probability\": 0.0017248293694521629, \"Handedness\": \"Left\"}, {\"Age at Death\": 20, \"Probability\": 0.0016741412870673752, \"Handedness\": \"Left\"}, {\"Age at Death\": 21, \"Probability\": 0.0016918342969564045, \"Handedness\": \"Left\"}, {\"Age at Death\": 22, \"Probability\": 0.0016129330366404615, \"Handedness\": \"Left\"}, {\"Age at Death\": 23, \"Probability\": 0.0015722869328413393, \"Handedness\": \"Left\"}, {\"Age at Death\": 24, \"Probability\": 0.0015196860926307107, \"Handedness\": \"Left\"}, {\"Age at Death\": 25, \"Probability\": 0.00150008032491584, \"Handedness\": \"Left\"}, {\"Age at Death\": 26, \"Probability\": 0.0015670268488202764, \"Handedness\": \"Left\"}, {\"Age at Death\": 27, \"Probability\": 0.0016970943809774676, \"Handedness\": \"Left\"}, {\"Age at Death\": 28, \"Probability\": 0.0017989487352035032, \"Handedness\": \"Left\"}, {\"Age at Death\": 29, \"Probability\": 0.0019022376577989197, \"Handedness\": \"Left\"}, {\"Age at Death\": 30, \"Probability\": 0.0019151487731233468, \"Handedness\": \"Left\"}, {\"Age at Death\": 31, \"Probability\": 0.0020007446858297338, \"Handedness\": \"Left\"}, {\"Age at Death\": 32, \"Probability\": 0.002199193310260742, \"Handedness\": \"Left\"}, {\"Age at Death\": 33, \"Probability\": 0.0023742106513251976, \"Handedness\": \"Left\"}, {\"Age at Death\": 34, \"Probability\": 0.002682642850742066, \"Handedness\": \"Left\"}, {\"Age at Death\": 35, \"Probability\": 0.0030006388392881398, \"Handedness\": \"Left\"}, {\"Age at Death\": 36, \"Probability\": 0.0031880891062205626, \"Handedness\": \"Left\"}, {\"Age at Death\": 37, \"Probability\": 0.0034936521688986692, \"Handedness\": \"Left\"}, {\"Age at Death\": 38, \"Probability\": 0.003845121419396962, \"Handedness\": \"Left\"}, {\"Age at Death\": 39, \"Probability\": 0.004071783221759126, \"Handedness\": \"Left\"}, {\"Age at Death\": 40, \"Probability\": 0.004320919928574921, \"Handedness\": \"Left\"}, {\"Age at Death\": 41, \"Probability\": 0.0046896039995057825, \"Handedness\": \"Left\"}, {\"Age at Death\": 42, \"Probability\": 0.004765982074750964, \"Handedness\": \"Left\"}, {\"Age at Death\": 43, \"Probability\": 0.005419291784661391, \"Handedness\": \"Left\"}, {\"Age at Death\": 44, \"Probability\": 0.005740325079526307, \"Handedness\": \"Left\"}, {\"Age at Death\": 45, \"Probability\": 0.005681124309736564, \"Handedness\": \"Left\"}, {\"Age at Death\": 46, \"Probability\": 0.0063983244036169545, \"Handedness\": \"Left\"}, {\"Age at Death\": 47, \"Probability\": 0.006475182550688963, \"Handedness\": \"Left\"}, {\"Age at Death\": 48, \"Probability\": 0.0067197624079848505, \"Handedness\": \"Left\"}, {\"Age at Death\": 49, \"Probability\": 0.007144621230241381, \"Handedness\": \"Left\"}, {\"Age at Death\": 50, \"Probability\": 0.0076826393674665075, \"Handedness\": \"Left\"}, {\"Age at Death\": 51, \"Probability\": 0.008304633744178249, \"Handedness\": \"Left\"}, {\"Age at Death\": 52, \"Probability\": 0.009391469401844746, \"Handedness\": \"Left\"}, {\"Age at Death\": 53, \"Probability\": 0.008138958050572447, \"Handedness\": \"Left\"}, {\"Age at Death\": 54, \"Probability\": 0.008550961506209135, \"Handedness\": \"Left\"}, {\"Age at Death\": 55, \"Probability\": 0.009198833293638794, \"Handedness\": \"Left\"}, {\"Age at Death\": 56, \"Probability\": 0.010029186539969337, \"Handedness\": \"Left\"}, {\"Age at Death\": 57, \"Probability\": 0.009588664409387127, \"Handedness\": \"Left\"}, {\"Age at Death\": 58, \"Probability\": 0.009512988768463787, \"Handedness\": \"Left\"}, {\"Age at Death\": 59, \"Probability\": 0.010862211446336466, \"Handedness\": \"Left\"}, {\"Age at Death\": 60, \"Probability\": 0.010950064336159998, \"Handedness\": \"Left\"}, {\"Age at Death\": 61, \"Probability\": 0.011732450257426768, \"Handedness\": \"Left\"}, {\"Age at Death\": 62, \"Probability\": 0.012543314493903026, \"Handedness\": \"Left\"}, {\"Age at Death\": 63, \"Probability\": 0.013343164737182675, \"Handedness\": \"Left\"}, {\"Age at Death\": 64, \"Probability\": 0.014702181959957627, \"Handedness\": \"Left\"}, {\"Age at Death\": 65, \"Probability\": 0.014592073789827697, \"Handedness\": \"Left\"}, {\"Age at Death\": 66, \"Probability\": 0.016021579469684123, \"Handedness\": \"Left\"}, {\"Age at Death\": 67, \"Probability\": 0.017291892738531024, \"Handedness\": \"Left\"}, {\"Age at Death\": 68, \"Probability\": 0.019155428414539384, \"Handedness\": \"Left\"}, {\"Age at Death\": 69, \"Probability\": 0.020824529960527097, \"Handedness\": \"Left\"}, {\"Age at Death\": 70, \"Probability\": 0.020852844855692144, \"Handedness\": \"Left\"}, {\"Age at Death\": 71, \"Probability\": 0.022983880593114098, \"Handedness\": \"Left\"}, {\"Age at Death\": 72, \"Probability\": 0.023999688786371595, \"Handedness\": \"Left\"}, {\"Age at Death\": 73, \"Probability\": 0.026209139151347413, \"Handedness\": \"Left\"}, {\"Age at Death\": 74, \"Probability\": 0.026601153507116157, \"Handedness\": \"Left\"}, {\"Age at Death\": 75, \"Probability\": 0.02803226666898188, \"Handedness\": \"Left\"}, {\"Age at Death\": 76, \"Probability\": 0.029612580119652086, \"Handedness\": \"Left\"}, {\"Age at Death\": 77, \"Probability\": 0.030192668182045645, \"Handedness\": \"Left\"}, {\"Age at Death\": 78, \"Probability\": 0.030886067680929444, \"Handedness\": \"Left\"}, {\"Age at Death\": 79, \"Probability\": 0.03108523942901305, \"Handedness\": \"Left\"}, {\"Age at Death\": 80, \"Probability\": 0.02966816788174154, \"Handedness\": \"Left\"}, {\"Age at Death\": 81, \"Probability\": 0.028598342894113473, \"Handedness\": \"Left\"}, {\"Age at Death\": 82, \"Probability\": 0.02803969343288729, \"Handedness\": \"Left\"}, {\"Age at Death\": 83, \"Probability\": 0.027773577883874728, \"Handedness\": \"Left\"}, {\"Age at Death\": 84, \"Probability\": 0.026744050029083633, \"Handedness\": \"Left\"}, {\"Age at Death\": 85, \"Probability\": 0.026774411390233524, \"Handedness\": \"Left\"}, {\"Age at Death\": 86, \"Probability\": 0.02565984706679947, \"Handedness\": \"Left\"}, {\"Age at Death\": 87, \"Probability\": 0.024485517730137223, \"Handedness\": \"Left\"}, {\"Age at Death\": 88, \"Probability\": 0.022098541992672534, \"Handedness\": \"Left\"}, {\"Age at Death\": 89, \"Probability\": 0.021511881249163513, \"Handedness\": \"Left\"}, {\"Age at Death\": 90, \"Probability\": 0.01797783953887537, \"Handedness\": \"Left\"}, {\"Age at Death\": 91, \"Probability\": 0.016499453105029406, \"Handedness\": \"Left\"}, {\"Age at Death\": 92, \"Probability\": 0.013808038490640587, \"Handedness\": \"Left\"}, {\"Age at Death\": 93, \"Probability\": 0.011386457033470871, \"Handedness\": \"Left\"}, {\"Age at Death\": 94, \"Probability\": 0.00953153663903678, \"Handedness\": \"Left\"}, {\"Age at Death\": 95, \"Probability\": 0.007158581774829388, \"Handedness\": \"Left\"}, {\"Age at Death\": 96, \"Probability\": 0.005694718238366292, \"Handedness\": \"Left\"}, {\"Age at Death\": 97, \"Probability\": 0.004477860130268583, \"Handedness\": \"Left\"}, {\"Age at Death\": 98, \"Probability\": 0.003420388318366191, \"Handedness\": \"Left\"}, {\"Age at Death\": 99, \"Probability\": 0.0023979235155105975, \"Handedness\": \"Left\"}, {\"Age at Death\": 100, \"Probability\": 0.0016147011916589475, \"Handedness\": \"Left\"}, {\"Age at Death\": 101, \"Probability\": 0.0011584151090753296, \"Handedness\": \"Left\"}, {\"Age at Death\": 102, \"Probability\": 0.0006939000215243203, \"Handedness\": \"Left\"}, {\"Age at Death\": 103, \"Probability\": 0.00046754665097502296, \"Handedness\": \"Left\"}, {\"Age at Death\": 104, \"Probability\": 0.00031275563520412585, \"Handedness\": \"Left\"}, {\"Age at Death\": 105, \"Probability\": 0.00018267653239485433, \"Handedness\": \"Left\"}, {\"Age at Death\": 106, \"Probability\": 9.706439520447324e-05, \"Handedness\": \"Left\"}, {\"Age at Death\": 107, \"Probability\": 6.579436579534371e-05, \"Handedness\": \"Left\"}, {\"Age at Death\": 108, \"Probability\": 3.6585297674448956e-05, \"Handedness\": \"Left\"}, {\"Age at Death\": 109, \"Probability\": 1.686218302162185e-05, \"Handedness\": \"Left\"}, {\"Age at Death\": 110, \"Probability\": 9.51845480816837e-06, \"Handedness\": \"Left\"}, {\"Age at Death\": 111, \"Probability\": 3.979816672371521e-06, \"Handedness\": \"Left\"}, {\"Age at Death\": 112, \"Probability\": 2.8483567190126093e-06, \"Handedness\": \"Left\"}, {\"Age at Death\": 113, \"Probability\": 1.9672646425452165e-06, \"Handedness\": \"Left\"}, {\"Age at Death\": 114, \"Probability\": 1.339719057529016e-06, \"Handedness\": \"Left\"}]}}, {\"mode\": \"vega-lite\"});\n",
       "</script>"
      ],
      "text/plain": [
       "alt.HConcatChart(...)"
      ]
     },
     "execution_count": 220,
     "metadata": {},
     "output_type": "execute_result"
    }
   ],
   "source": [
    "#collapse\n",
    "death_prob_2018 = ( alt.Chart(right_left_2018_df, title='2018 Distribution')\n",
    "    .mark_area(opacity=0.3)\n",
    "    .encode(x='Age at Death:Q', y='Probability:Q', color='Handedness:N' )\n",
    "                  )\n",
    "\n",
    "death_prob_90 | death_prob_2018"
   ]
  },
  {
   "cell_type": "code",
   "execution_count": 221,
   "metadata": {
    "dc": {
     "key": "67"
    },
    "tags": [
     "sample_code"
    ]
   },
   "outputs": [
    {
     "name": "stdout",
     "output_type": "stream",
     "text": [
      "Handedness\n",
      "Left     70.29\n",
      "Right    72.63\n",
      "Name: Average Age of Death (Years), dtype: float64\n",
      "\n",
      "\n",
      "The difference in average age of death between left and right handed people are: 2.34 years.\n"
     ]
    }
   ],
   "source": [
    "right_left_2018_df['Average Age of Death (Years)'] = right_left_2018_df['Age at Death'] * right_left_2018_df['Probability']\n",
    "handed_probs = right_left_2018_df.groupby('Handedness')['Average Age of Death (Years)'].sum()\n",
    "print(handed_probs.round(2))\n",
    "print(f\"\\n\\nThe difference in average age of death between left and right handed people are: {handed_probs.diff().values[-1]:.2f} years.\")"
   ]
  },
  {
   "cell_type": "markdown",
   "metadata": {},
   "source": [
    "In order to determine if there are significant differences between these distributions, we can use a simulation. \n",
    "\n",
    "We can use a 95% confidence interval to "
   ]
  },
  {
   "cell_type": "code",
   "execution_count": 283,
   "metadata": {},
   "outputs": [],
   "source": [
    "sim_age_2018 = ( np.random.choice(right_left_2018_df['Average Age of Death (Years)'].values, size=(10000, int(right_left_2018_df.shape[0]/2))) ).sum(axis=1)"
   ]
  },
  {
   "cell_type": "code",
   "execution_count": 284,
   "metadata": {},
   "outputs": [
    {
     "data": {
      "image/png": "[encoded data removed]",
      "text/plain": [
       "<Figure size 720x360 with 1 Axes>"
      ]
     },
     "metadata": {},
     "output_type": "display_data"
    }
   ],
   "source": [
    "with sns.plotting_context(\"notebook\", font_scale=1.5):\n",
    "    fig, ax = plt.subplots(figsize=[10,5])\n",
    "    sns.distplot(sim_age_2018)\n",
    "    plt.title(\"Simulated Null Distriubtion\")\n",
    "    plt.axvline(x=handed_probs['Left'], c='r')\n",
    "    plt.axvline(x=np.percentile(sim_age_2018, q=2.5))\n",
    "    plt.axvline(x=np.percentile(sim_age_2018, q=97.5))\n",
    "    plt.xlabel(\"Age of Death\")\n",
    "    plt.ylabel(\"Probability\")"
   ]
  },
  {
   "cell_type": "code",
   "execution_count": 285,
   "metadata": {},
   "outputs": [
    {
     "name": "stdout",
     "output_type": "stream",
     "text": [
      "The Simulated Null Distriubtion has a confidence interval of 55.0 to 88.36 years\n"
     ]
    }
   ],
   "source": [
    "lower, upper = np.percentile(sim_age_2018, q=[2.5, 97.5]).round(2)\n",
    "print(f\"The Simulated Null Distriubtion has a confidence interval of {lower} to {upper} years\" )\n"
   ]
  },
  {
   "cell_type": "markdown",
   "metadata": {},
   "source": [
    "Based on our 95% confidence interval, we can't say that there's a significant difference between Left hand and Right Hand death ages. "
   ]
  }
 ],
 "metadata": {
  "kernelspec": {
   "display_name": "Python 3",
   "language": "python",
   "name": "python3"
  },
  "language_info": {
   "codemirror_mode": {
    "name": "ipython",
    "version": 3
   },
   "file_extension": ".py",
   "mimetype": "text/x-python",
   "name": "python",
   "nbconvert_exporter": "python",
   "pygments_lexer": "ipython3",
   "version": "3.8.2"
  }
 },
 "nbformat": 4,
 "nbformat_minor": 4
}
